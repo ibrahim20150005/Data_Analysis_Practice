{
 "cells": [
  {
   "cell_type": "markdown",
   "id": "d02a3137",
   "metadata": {},
   "source": [
    "## Introduction\n",
    "### Data Description\n",
    "> A fictional telco company that provided home phone and Internet services to 7043 customers in California in Q3\n",
    "### Question(s) for Analysis\n",
    "><ol>\n",
    "    <li> what is Target variable- Churn? </li>\n",
    "    <li> what is the percentage of customers associated with the company that left it</li>\n",
    "    <li> what is frequency distributions for  the tenure?</li>\n",
    "    <li> probability each type of customer  to subscribes home phone service with the company?</li>\n",
    "    <li> probability each type of customer  to subscribes home phone service with the company?</li>\n",
    "    <li> probability customer subscribes DSL or Fiber if he had subscribed home phone service with the company? </li>\n",
    "    <li> probability that the customer  subscribes online security if he  subscribes home phone service with the company?</li>\n",
    "    <li> probability that the customer  subscribes TechSupport if he  subscribes home phone service with the company? </li>\n",
    "    <li> what is  Calculating confidence interval for difference in mean total charges between males and females? </li>\n",
    "</ol>"
   ]
  },
  {
   "cell_type": "markdown",
   "id": "762f81d6",
   "metadata": {},
   "source": [
    "<a id='wrangling'></a>\n",
    "## Data Wrangling\n",
    "\n",
    "> **Tip**: In this section of the report, you will load in the data, check for cleanliness, and then trim and clean your dataset for analysis. Make sure that you **document your data cleaning steps in mark-down cells precisely and justify your cleaning decisions.**\n",
    "\n",
    "\n",
    "### General Properties\n",
    "> **Tip**: You should _not_ perform too many operations in each cell. Create cells freely to explore your data. One option that you can take with this project is to do a lot of explorations in an initial notebook. These don't have to be organized, but make sure you use enough comments to understand the purpose of each code cell. Then, after you're done with your analysis, create a duplicate notebook where you will trim the excess and organize your steps so that you have a flowing, cohesive report."
   ]
  },
  {
   "cell_type": "code",
   "execution_count": 702,
   "id": "4a5a6683",
   "metadata": {},
   "outputs": [],
   "source": [
    "#import package and load dataset\n",
    "import pandas as pd\n",
    "import numpy as np\n",
    "import seaborn as sns\n",
    "import matplotlib.pyplot as plt\n",
    "%matplotlib inline\n",
    "df = pd.read_csv(\"Telco-Customer-Churn.csv\")"
   ]
  },
  {
   "cell_type": "code",
   "execution_count": 703,
   "id": "6b672fc2",
   "metadata": {},
   "outputs": [
    {
     "data": {
      "text/html": [
       "<div>\n",
       "<style scoped>\n",
       "    .dataframe tbody tr th:only-of-type {\n",
       "        vertical-align: middle;\n",
       "    }\n",
       "\n",
       "    .dataframe tbody tr th {\n",
       "        vertical-align: top;\n",
       "    }\n",
       "\n",
       "    .dataframe thead th {\n",
       "        text-align: right;\n",
       "    }\n",
       "</style>\n",
       "<table border=\"1\" class=\"dataframe\">\n",
       "  <thead>\n",
       "    <tr style=\"text-align: right;\">\n",
       "      <th></th>\n",
       "      <th>customerID</th>\n",
       "      <th>gender</th>\n",
       "      <th>SeniorCitizen</th>\n",
       "      <th>Partner</th>\n",
       "      <th>Dependents</th>\n",
       "      <th>tenure</th>\n",
       "      <th>PhoneService</th>\n",
       "      <th>MultipleLines</th>\n",
       "      <th>InternetService</th>\n",
       "      <th>OnlineSecurity</th>\n",
       "      <th>...</th>\n",
       "      <th>DeviceProtection</th>\n",
       "      <th>TechSupport</th>\n",
       "      <th>StreamingTV</th>\n",
       "      <th>StreamingMovies</th>\n",
       "      <th>Contract</th>\n",
       "      <th>PaperlessBilling</th>\n",
       "      <th>PaymentMethod</th>\n",
       "      <th>MonthlyCharges</th>\n",
       "      <th>TotalCharges</th>\n",
       "      <th>Churn</th>\n",
       "    </tr>\n",
       "  </thead>\n",
       "  <tbody>\n",
       "    <tr>\n",
       "      <th>0</th>\n",
       "      <td>7590-VHVEG</td>\n",
       "      <td>Female</td>\n",
       "      <td>0</td>\n",
       "      <td>Yes</td>\n",
       "      <td>No</td>\n",
       "      <td>1</td>\n",
       "      <td>No</td>\n",
       "      <td>No phone service</td>\n",
       "      <td>DSL</td>\n",
       "      <td>No</td>\n",
       "      <td>...</td>\n",
       "      <td>No</td>\n",
       "      <td>No</td>\n",
       "      <td>No</td>\n",
       "      <td>No</td>\n",
       "      <td>Month-to-month</td>\n",
       "      <td>Yes</td>\n",
       "      <td>Electronic check</td>\n",
       "      <td>29.85</td>\n",
       "      <td>29.85</td>\n",
       "      <td>No</td>\n",
       "    </tr>\n",
       "    <tr>\n",
       "      <th>1</th>\n",
       "      <td>5575-GNVDE</td>\n",
       "      <td>Male</td>\n",
       "      <td>0</td>\n",
       "      <td>No</td>\n",
       "      <td>No</td>\n",
       "      <td>34</td>\n",
       "      <td>Yes</td>\n",
       "      <td>No</td>\n",
       "      <td>DSL</td>\n",
       "      <td>Yes</td>\n",
       "      <td>...</td>\n",
       "      <td>Yes</td>\n",
       "      <td>No</td>\n",
       "      <td>No</td>\n",
       "      <td>No</td>\n",
       "      <td>One year</td>\n",
       "      <td>No</td>\n",
       "      <td>Mailed check</td>\n",
       "      <td>56.95</td>\n",
       "      <td>1889.5</td>\n",
       "      <td>No</td>\n",
       "    </tr>\n",
       "    <tr>\n",
       "      <th>2</th>\n",
       "      <td>3668-QPYBK</td>\n",
       "      <td>Male</td>\n",
       "      <td>0</td>\n",
       "      <td>No</td>\n",
       "      <td>No</td>\n",
       "      <td>2</td>\n",
       "      <td>Yes</td>\n",
       "      <td>No</td>\n",
       "      <td>DSL</td>\n",
       "      <td>Yes</td>\n",
       "      <td>...</td>\n",
       "      <td>No</td>\n",
       "      <td>No</td>\n",
       "      <td>No</td>\n",
       "      <td>No</td>\n",
       "      <td>Month-to-month</td>\n",
       "      <td>Yes</td>\n",
       "      <td>Mailed check</td>\n",
       "      <td>53.85</td>\n",
       "      <td>108.15</td>\n",
       "      <td>Yes</td>\n",
       "    </tr>\n",
       "    <tr>\n",
       "      <th>3</th>\n",
       "      <td>7795-CFOCW</td>\n",
       "      <td>Male</td>\n",
       "      <td>0</td>\n",
       "      <td>No</td>\n",
       "      <td>No</td>\n",
       "      <td>45</td>\n",
       "      <td>No</td>\n",
       "      <td>No phone service</td>\n",
       "      <td>DSL</td>\n",
       "      <td>Yes</td>\n",
       "      <td>...</td>\n",
       "      <td>Yes</td>\n",
       "      <td>Yes</td>\n",
       "      <td>No</td>\n",
       "      <td>No</td>\n",
       "      <td>One year</td>\n",
       "      <td>No</td>\n",
       "      <td>Bank transfer (automatic)</td>\n",
       "      <td>42.30</td>\n",
       "      <td>1840.75</td>\n",
       "      <td>No</td>\n",
       "    </tr>\n",
       "    <tr>\n",
       "      <th>4</th>\n",
       "      <td>9237-HQITU</td>\n",
       "      <td>Female</td>\n",
       "      <td>0</td>\n",
       "      <td>No</td>\n",
       "      <td>No</td>\n",
       "      <td>2</td>\n",
       "      <td>Yes</td>\n",
       "      <td>No</td>\n",
       "      <td>Fiber optic</td>\n",
       "      <td>No</td>\n",
       "      <td>...</td>\n",
       "      <td>No</td>\n",
       "      <td>No</td>\n",
       "      <td>No</td>\n",
       "      <td>No</td>\n",
       "      <td>Month-to-month</td>\n",
       "      <td>Yes</td>\n",
       "      <td>Electronic check</td>\n",
       "      <td>70.70</td>\n",
       "      <td>151.65</td>\n",
       "      <td>Yes</td>\n",
       "    </tr>\n",
       "    <tr>\n",
       "      <th>...</th>\n",
       "      <td>...</td>\n",
       "      <td>...</td>\n",
       "      <td>...</td>\n",
       "      <td>...</td>\n",
       "      <td>...</td>\n",
       "      <td>...</td>\n",
       "      <td>...</td>\n",
       "      <td>...</td>\n",
       "      <td>...</td>\n",
       "      <td>...</td>\n",
       "      <td>...</td>\n",
       "      <td>...</td>\n",
       "      <td>...</td>\n",
       "      <td>...</td>\n",
       "      <td>...</td>\n",
       "      <td>...</td>\n",
       "      <td>...</td>\n",
       "      <td>...</td>\n",
       "      <td>...</td>\n",
       "      <td>...</td>\n",
       "      <td>...</td>\n",
       "    </tr>\n",
       "    <tr>\n",
       "      <th>7038</th>\n",
       "      <td>6840-RESVB</td>\n",
       "      <td>Male</td>\n",
       "      <td>0</td>\n",
       "      <td>Yes</td>\n",
       "      <td>Yes</td>\n",
       "      <td>24</td>\n",
       "      <td>Yes</td>\n",
       "      <td>Yes</td>\n",
       "      <td>DSL</td>\n",
       "      <td>Yes</td>\n",
       "      <td>...</td>\n",
       "      <td>Yes</td>\n",
       "      <td>Yes</td>\n",
       "      <td>Yes</td>\n",
       "      <td>Yes</td>\n",
       "      <td>One year</td>\n",
       "      <td>Yes</td>\n",
       "      <td>Mailed check</td>\n",
       "      <td>84.80</td>\n",
       "      <td>1990.5</td>\n",
       "      <td>No</td>\n",
       "    </tr>\n",
       "    <tr>\n",
       "      <th>7039</th>\n",
       "      <td>2234-XADUH</td>\n",
       "      <td>Female</td>\n",
       "      <td>0</td>\n",
       "      <td>Yes</td>\n",
       "      <td>Yes</td>\n",
       "      <td>72</td>\n",
       "      <td>Yes</td>\n",
       "      <td>Yes</td>\n",
       "      <td>Fiber optic</td>\n",
       "      <td>No</td>\n",
       "      <td>...</td>\n",
       "      <td>Yes</td>\n",
       "      <td>No</td>\n",
       "      <td>Yes</td>\n",
       "      <td>Yes</td>\n",
       "      <td>One year</td>\n",
       "      <td>Yes</td>\n",
       "      <td>Credit card (automatic)</td>\n",
       "      <td>103.20</td>\n",
       "      <td>7362.9</td>\n",
       "      <td>No</td>\n",
       "    </tr>\n",
       "    <tr>\n",
       "      <th>7040</th>\n",
       "      <td>4801-JZAZL</td>\n",
       "      <td>Female</td>\n",
       "      <td>0</td>\n",
       "      <td>Yes</td>\n",
       "      <td>Yes</td>\n",
       "      <td>11</td>\n",
       "      <td>No</td>\n",
       "      <td>No phone service</td>\n",
       "      <td>DSL</td>\n",
       "      <td>Yes</td>\n",
       "      <td>...</td>\n",
       "      <td>No</td>\n",
       "      <td>No</td>\n",
       "      <td>No</td>\n",
       "      <td>No</td>\n",
       "      <td>Month-to-month</td>\n",
       "      <td>Yes</td>\n",
       "      <td>Electronic check</td>\n",
       "      <td>29.60</td>\n",
       "      <td>346.45</td>\n",
       "      <td>No</td>\n",
       "    </tr>\n",
       "    <tr>\n",
       "      <th>7041</th>\n",
       "      <td>8361-LTMKD</td>\n",
       "      <td>Male</td>\n",
       "      <td>1</td>\n",
       "      <td>Yes</td>\n",
       "      <td>No</td>\n",
       "      <td>4</td>\n",
       "      <td>Yes</td>\n",
       "      <td>Yes</td>\n",
       "      <td>Fiber optic</td>\n",
       "      <td>No</td>\n",
       "      <td>...</td>\n",
       "      <td>No</td>\n",
       "      <td>No</td>\n",
       "      <td>No</td>\n",
       "      <td>No</td>\n",
       "      <td>Month-to-month</td>\n",
       "      <td>Yes</td>\n",
       "      <td>Mailed check</td>\n",
       "      <td>74.40</td>\n",
       "      <td>306.6</td>\n",
       "      <td>Yes</td>\n",
       "    </tr>\n",
       "    <tr>\n",
       "      <th>7042</th>\n",
       "      <td>3186-AJIEK</td>\n",
       "      <td>Male</td>\n",
       "      <td>0</td>\n",
       "      <td>No</td>\n",
       "      <td>No</td>\n",
       "      <td>66</td>\n",
       "      <td>Yes</td>\n",
       "      <td>No</td>\n",
       "      <td>Fiber optic</td>\n",
       "      <td>Yes</td>\n",
       "      <td>...</td>\n",
       "      <td>Yes</td>\n",
       "      <td>Yes</td>\n",
       "      <td>Yes</td>\n",
       "      <td>Yes</td>\n",
       "      <td>Two year</td>\n",
       "      <td>Yes</td>\n",
       "      <td>Bank transfer (automatic)</td>\n",
       "      <td>105.65</td>\n",
       "      <td>6844.5</td>\n",
       "      <td>No</td>\n",
       "    </tr>\n",
       "  </tbody>\n",
       "</table>\n",
       "<p>7043 rows × 21 columns</p>\n",
       "</div>"
      ],
      "text/plain": [
       "      customerID  gender  SeniorCitizen Partner Dependents  tenure  \\\n",
       "0     7590-VHVEG  Female              0     Yes         No       1   \n",
       "1     5575-GNVDE    Male              0      No         No      34   \n",
       "2     3668-QPYBK    Male              0      No         No       2   \n",
       "3     7795-CFOCW    Male              0      No         No      45   \n",
       "4     9237-HQITU  Female              0      No         No       2   \n",
       "...          ...     ...            ...     ...        ...     ...   \n",
       "7038  6840-RESVB    Male              0     Yes        Yes      24   \n",
       "7039  2234-XADUH  Female              0     Yes        Yes      72   \n",
       "7040  4801-JZAZL  Female              0     Yes        Yes      11   \n",
       "7041  8361-LTMKD    Male              1     Yes         No       4   \n",
       "7042  3186-AJIEK    Male              0      No         No      66   \n",
       "\n",
       "     PhoneService     MultipleLines InternetService OnlineSecurity  ...  \\\n",
       "0              No  No phone service             DSL             No  ...   \n",
       "1             Yes                No             DSL            Yes  ...   \n",
       "2             Yes                No             DSL            Yes  ...   \n",
       "3              No  No phone service             DSL            Yes  ...   \n",
       "4             Yes                No     Fiber optic             No  ...   \n",
       "...           ...               ...             ...            ...  ...   \n",
       "7038          Yes               Yes             DSL            Yes  ...   \n",
       "7039          Yes               Yes     Fiber optic             No  ...   \n",
       "7040           No  No phone service             DSL            Yes  ...   \n",
       "7041          Yes               Yes     Fiber optic             No  ...   \n",
       "7042          Yes                No     Fiber optic            Yes  ...   \n",
       "\n",
       "     DeviceProtection TechSupport StreamingTV StreamingMovies        Contract  \\\n",
       "0                  No          No          No              No  Month-to-month   \n",
       "1                 Yes          No          No              No        One year   \n",
       "2                  No          No          No              No  Month-to-month   \n",
       "3                 Yes         Yes          No              No        One year   \n",
       "4                  No          No          No              No  Month-to-month   \n",
       "...               ...         ...         ...             ...             ...   \n",
       "7038              Yes         Yes         Yes             Yes        One year   \n",
       "7039              Yes          No         Yes             Yes        One year   \n",
       "7040               No          No          No              No  Month-to-month   \n",
       "7041               No          No          No              No  Month-to-month   \n",
       "7042              Yes         Yes         Yes             Yes        Two year   \n",
       "\n",
       "     PaperlessBilling              PaymentMethod MonthlyCharges  TotalCharges  \\\n",
       "0                 Yes           Electronic check          29.85         29.85   \n",
       "1                  No               Mailed check          56.95        1889.5   \n",
       "2                 Yes               Mailed check          53.85        108.15   \n",
       "3                  No  Bank transfer (automatic)          42.30       1840.75   \n",
       "4                 Yes           Electronic check          70.70        151.65   \n",
       "...               ...                        ...            ...           ...   \n",
       "7038              Yes               Mailed check          84.80        1990.5   \n",
       "7039              Yes    Credit card (automatic)         103.20        7362.9   \n",
       "7040              Yes           Electronic check          29.60        346.45   \n",
       "7041              Yes               Mailed check          74.40         306.6   \n",
       "7042              Yes  Bank transfer (automatic)         105.65        6844.5   \n",
       "\n",
       "     Churn  \n",
       "0       No  \n",
       "1       No  \n",
       "2      Yes  \n",
       "3       No  \n",
       "4      Yes  \n",
       "...    ...  \n",
       "7038    No  \n",
       "7039    No  \n",
       "7040    No  \n",
       "7041   Yes  \n",
       "7042    No  \n",
       "\n",
       "[7043 rows x 21 columns]"
      ]
     },
     "execution_count": 703,
     "metadata": {},
     "output_type": "execute_result"
    }
   ],
   "source": [
    "df"
   ]
  },
  {
   "cell_type": "markdown",
   "id": "c9c3b907",
   "metadata": {},
   "source": [
    "## type of data\n",
    "<ul>\n",
    "<li> 1) customerID > categoral nominal </li>\n",
    "<li> 2) gender > categoral nominal </li>\n",
    "<li> 3) SeniorCitizen > categoral ordinal </li>\n",
    "<li> 4) Partner > categoral nominal </li>\n",
    "<li> 5) Dependents > categoral nominal </li>\n",
    "<li> 6) tenure > quantitative discrite </li>\n",
    "<li> 7) PhoneService > categoral nominal </li>\n",
    "<li> 8) MultipleLines > categorical nominal </li>\n",
    "<li> 9) InternetService > categorical nominal </li>\n",
    "<li> 10) OnlineSecurity > categorical nominal </li>\n",
    "<li> 11) OnlineBackup > categorical nominal </li>\n",
    "<li> 12) DeviceProtection > categorical nominal </li>\n",
    "<li> 13) TechSupport > categorical nominal </li>\n",
    "<li> 14) StreamingTV > categorical nominal </li>\n",
    "<li> 15) StreamingMovies > categorical nominal </li>\n",
    "<li> 16) Contract > quantitative discrite </li>\n",
    "<li> 17) PaperlessBilling > categorical nominal </li>\n",
    "<li> 18) PaymentMethod > categorical nominal </li>\n",
    "<li> 19) MonthlyCharges > quintative continous </li>\n",
    "<li> 20) TotalCharges > quintative continous </li>\n",
    "<li> 21) Churn > categorical nominal</li>\n",
    "</ul>"
   ]
  },
  {
   "cell_type": "code",
   "execution_count": 704,
   "id": "33fb84bc",
   "metadata": {},
   "outputs": [
    {
     "name": "stdout",
     "output_type": "stream",
     "text": [
      "(7043, 21)\n",
      "<class 'pandas.core.frame.DataFrame'>\n",
      "RangeIndex: 7043 entries, 0 to 7042\n",
      "Data columns (total 21 columns):\n",
      " #   Column            Non-Null Count  Dtype  \n",
      "---  ------            --------------  -----  \n",
      " 0   customerID        7043 non-null   object \n",
      " 1   gender            7043 non-null   object \n",
      " 2   SeniorCitizen     7043 non-null   int64  \n",
      " 3   Partner           7043 non-null   object \n",
      " 4   Dependents        7043 non-null   object \n",
      " 5   tenure            7043 non-null   int64  \n",
      " 6   PhoneService      7043 non-null   object \n",
      " 7   MultipleLines     7043 non-null   object \n",
      " 8   InternetService   7043 non-null   object \n",
      " 9   OnlineSecurity    7043 non-null   object \n",
      " 10  OnlineBackup      7043 non-null   object \n",
      " 11  DeviceProtection  7043 non-null   object \n",
      " 12  TechSupport       7043 non-null   object \n",
      " 13  StreamingTV       7043 non-null   object \n",
      " 14  StreamingMovies   7043 non-null   object \n",
      " 15  Contract          7043 non-null   object \n",
      " 16  PaperlessBilling  7043 non-null   object \n",
      " 17  PaymentMethod     7043 non-null   object \n",
      " 18  MonthlyCharges    7043 non-null   float64\n",
      " 19  TotalCharges      7043 non-null   object \n",
      " 20  Churn             7043 non-null   object \n",
      "dtypes: float64(1), int64(2), object(18)\n",
      "memory usage: 1.1+ MB\n",
      "None\n"
     ]
    }
   ],
   "source": [
    "print(df.shape)\n",
    "print(df.info())"
   ]
  },
  {
   "cell_type": "code",
   "execution_count": 705,
   "id": "06bb28e9",
   "metadata": {},
   "outputs": [
    {
     "data": {
      "text/plain": [
       "str"
      ]
     },
     "execution_count": 705,
     "metadata": {},
     "output_type": "execute_result"
    }
   ],
   "source": [
    "#check data type of object TotalCharges\n",
    "type(df['TotalCharges'][0])"
   ]
  },
  {
   "cell_type": "code",
   "execution_count": 706,
   "id": "d241d687",
   "metadata": {},
   "outputs": [
    {
     "data": {
      "text/html": [
       "<div>\n",
       "<style scoped>\n",
       "    .dataframe tbody tr th:only-of-type {\n",
       "        vertical-align: middle;\n",
       "    }\n",
       "\n",
       "    .dataframe tbody tr th {\n",
       "        vertical-align: top;\n",
       "    }\n",
       "\n",
       "    .dataframe thead th {\n",
       "        text-align: right;\n",
       "    }\n",
       "</style>\n",
       "<table border=\"1\" class=\"dataframe\">\n",
       "  <thead>\n",
       "    <tr style=\"text-align: right;\">\n",
       "      <th></th>\n",
       "      <th>customerID</th>\n",
       "      <th>gender</th>\n",
       "      <th>SeniorCitizen</th>\n",
       "      <th>Partner</th>\n",
       "      <th>Dependents</th>\n",
       "      <th>tenure</th>\n",
       "      <th>PhoneService</th>\n",
       "      <th>MultipleLines</th>\n",
       "      <th>InternetService</th>\n",
       "      <th>OnlineSecurity</th>\n",
       "      <th>...</th>\n",
       "      <th>DeviceProtection</th>\n",
       "      <th>TechSupport</th>\n",
       "      <th>StreamingTV</th>\n",
       "      <th>StreamingMovies</th>\n",
       "      <th>Contract</th>\n",
       "      <th>PaperlessBilling</th>\n",
       "      <th>PaymentMethod</th>\n",
       "      <th>MonthlyCharges</th>\n",
       "      <th>TotalCharges</th>\n",
       "      <th>Churn</th>\n",
       "    </tr>\n",
       "  </thead>\n",
       "  <tbody>\n",
       "    <tr>\n",
       "      <th>488</th>\n",
       "      <td>False</td>\n",
       "      <td>False</td>\n",
       "      <td>False</td>\n",
       "      <td>False</td>\n",
       "      <td>False</td>\n",
       "      <td>False</td>\n",
       "      <td>False</td>\n",
       "      <td>False</td>\n",
       "      <td>False</td>\n",
       "      <td>False</td>\n",
       "      <td>...</td>\n",
       "      <td>False</td>\n",
       "      <td>False</td>\n",
       "      <td>False</td>\n",
       "      <td>False</td>\n",
       "      <td>False</td>\n",
       "      <td>False</td>\n",
       "      <td>False</td>\n",
       "      <td>False</td>\n",
       "      <td>False</td>\n",
       "      <td>False</td>\n",
       "    </tr>\n",
       "    <tr>\n",
       "      <th>753</th>\n",
       "      <td>False</td>\n",
       "      <td>False</td>\n",
       "      <td>False</td>\n",
       "      <td>False</td>\n",
       "      <td>False</td>\n",
       "      <td>False</td>\n",
       "      <td>False</td>\n",
       "      <td>False</td>\n",
       "      <td>False</td>\n",
       "      <td>False</td>\n",
       "      <td>...</td>\n",
       "      <td>False</td>\n",
       "      <td>False</td>\n",
       "      <td>False</td>\n",
       "      <td>False</td>\n",
       "      <td>False</td>\n",
       "      <td>False</td>\n",
       "      <td>False</td>\n",
       "      <td>False</td>\n",
       "      <td>False</td>\n",
       "      <td>False</td>\n",
       "    </tr>\n",
       "    <tr>\n",
       "      <th>936</th>\n",
       "      <td>False</td>\n",
       "      <td>False</td>\n",
       "      <td>False</td>\n",
       "      <td>False</td>\n",
       "      <td>False</td>\n",
       "      <td>False</td>\n",
       "      <td>False</td>\n",
       "      <td>False</td>\n",
       "      <td>False</td>\n",
       "      <td>False</td>\n",
       "      <td>...</td>\n",
       "      <td>False</td>\n",
       "      <td>False</td>\n",
       "      <td>False</td>\n",
       "      <td>False</td>\n",
       "      <td>False</td>\n",
       "      <td>False</td>\n",
       "      <td>False</td>\n",
       "      <td>False</td>\n",
       "      <td>False</td>\n",
       "      <td>False</td>\n",
       "    </tr>\n",
       "    <tr>\n",
       "      <th>1082</th>\n",
       "      <td>False</td>\n",
       "      <td>False</td>\n",
       "      <td>False</td>\n",
       "      <td>False</td>\n",
       "      <td>False</td>\n",
       "      <td>False</td>\n",
       "      <td>False</td>\n",
       "      <td>False</td>\n",
       "      <td>False</td>\n",
       "      <td>False</td>\n",
       "      <td>...</td>\n",
       "      <td>False</td>\n",
       "      <td>False</td>\n",
       "      <td>False</td>\n",
       "      <td>False</td>\n",
       "      <td>False</td>\n",
       "      <td>False</td>\n",
       "      <td>False</td>\n",
       "      <td>False</td>\n",
       "      <td>False</td>\n",
       "      <td>False</td>\n",
       "    </tr>\n",
       "    <tr>\n",
       "      <th>1340</th>\n",
       "      <td>False</td>\n",
       "      <td>False</td>\n",
       "      <td>False</td>\n",
       "      <td>False</td>\n",
       "      <td>False</td>\n",
       "      <td>False</td>\n",
       "      <td>False</td>\n",
       "      <td>False</td>\n",
       "      <td>False</td>\n",
       "      <td>False</td>\n",
       "      <td>...</td>\n",
       "      <td>False</td>\n",
       "      <td>False</td>\n",
       "      <td>False</td>\n",
       "      <td>False</td>\n",
       "      <td>False</td>\n",
       "      <td>False</td>\n",
       "      <td>False</td>\n",
       "      <td>False</td>\n",
       "      <td>False</td>\n",
       "      <td>False</td>\n",
       "    </tr>\n",
       "    <tr>\n",
       "      <th>3331</th>\n",
       "      <td>False</td>\n",
       "      <td>False</td>\n",
       "      <td>False</td>\n",
       "      <td>False</td>\n",
       "      <td>False</td>\n",
       "      <td>False</td>\n",
       "      <td>False</td>\n",
       "      <td>False</td>\n",
       "      <td>False</td>\n",
       "      <td>False</td>\n",
       "      <td>...</td>\n",
       "      <td>False</td>\n",
       "      <td>False</td>\n",
       "      <td>False</td>\n",
       "      <td>False</td>\n",
       "      <td>False</td>\n",
       "      <td>False</td>\n",
       "      <td>False</td>\n",
       "      <td>False</td>\n",
       "      <td>False</td>\n",
       "      <td>False</td>\n",
       "    </tr>\n",
       "    <tr>\n",
       "      <th>3826</th>\n",
       "      <td>False</td>\n",
       "      <td>False</td>\n",
       "      <td>False</td>\n",
       "      <td>False</td>\n",
       "      <td>False</td>\n",
       "      <td>False</td>\n",
       "      <td>False</td>\n",
       "      <td>False</td>\n",
       "      <td>False</td>\n",
       "      <td>False</td>\n",
       "      <td>...</td>\n",
       "      <td>False</td>\n",
       "      <td>False</td>\n",
       "      <td>False</td>\n",
       "      <td>False</td>\n",
       "      <td>False</td>\n",
       "      <td>False</td>\n",
       "      <td>False</td>\n",
       "      <td>False</td>\n",
       "      <td>False</td>\n",
       "      <td>False</td>\n",
       "    </tr>\n",
       "    <tr>\n",
       "      <th>4380</th>\n",
       "      <td>False</td>\n",
       "      <td>False</td>\n",
       "      <td>False</td>\n",
       "      <td>False</td>\n",
       "      <td>False</td>\n",
       "      <td>False</td>\n",
       "      <td>False</td>\n",
       "      <td>False</td>\n",
       "      <td>False</td>\n",
       "      <td>False</td>\n",
       "      <td>...</td>\n",
       "      <td>False</td>\n",
       "      <td>False</td>\n",
       "      <td>False</td>\n",
       "      <td>False</td>\n",
       "      <td>False</td>\n",
       "      <td>False</td>\n",
       "      <td>False</td>\n",
       "      <td>False</td>\n",
       "      <td>False</td>\n",
       "      <td>False</td>\n",
       "    </tr>\n",
       "    <tr>\n",
       "      <th>5218</th>\n",
       "      <td>False</td>\n",
       "      <td>False</td>\n",
       "      <td>False</td>\n",
       "      <td>False</td>\n",
       "      <td>False</td>\n",
       "      <td>False</td>\n",
       "      <td>False</td>\n",
       "      <td>False</td>\n",
       "      <td>False</td>\n",
       "      <td>False</td>\n",
       "      <td>...</td>\n",
       "      <td>False</td>\n",
       "      <td>False</td>\n",
       "      <td>False</td>\n",
       "      <td>False</td>\n",
       "      <td>False</td>\n",
       "      <td>False</td>\n",
       "      <td>False</td>\n",
       "      <td>False</td>\n",
       "      <td>False</td>\n",
       "      <td>False</td>\n",
       "    </tr>\n",
       "    <tr>\n",
       "      <th>6670</th>\n",
       "      <td>False</td>\n",
       "      <td>False</td>\n",
       "      <td>False</td>\n",
       "      <td>False</td>\n",
       "      <td>False</td>\n",
       "      <td>False</td>\n",
       "      <td>False</td>\n",
       "      <td>False</td>\n",
       "      <td>False</td>\n",
       "      <td>False</td>\n",
       "      <td>...</td>\n",
       "      <td>False</td>\n",
       "      <td>False</td>\n",
       "      <td>False</td>\n",
       "      <td>False</td>\n",
       "      <td>False</td>\n",
       "      <td>False</td>\n",
       "      <td>False</td>\n",
       "      <td>False</td>\n",
       "      <td>False</td>\n",
       "      <td>False</td>\n",
       "    </tr>\n",
       "    <tr>\n",
       "      <th>6754</th>\n",
       "      <td>False</td>\n",
       "      <td>False</td>\n",
       "      <td>False</td>\n",
       "      <td>False</td>\n",
       "      <td>False</td>\n",
       "      <td>False</td>\n",
       "      <td>False</td>\n",
       "      <td>False</td>\n",
       "      <td>False</td>\n",
       "      <td>False</td>\n",
       "      <td>...</td>\n",
       "      <td>False</td>\n",
       "      <td>False</td>\n",
       "      <td>False</td>\n",
       "      <td>False</td>\n",
       "      <td>False</td>\n",
       "      <td>False</td>\n",
       "      <td>False</td>\n",
       "      <td>False</td>\n",
       "      <td>False</td>\n",
       "      <td>False</td>\n",
       "    </tr>\n",
       "  </tbody>\n",
       "</table>\n",
       "<p>11 rows × 21 columns</p>\n",
       "</div>"
      ],
      "text/plain": [
       "      customerID  gender  SeniorCitizen  Partner  Dependents  tenure  \\\n",
       "488        False   False          False    False       False   False   \n",
       "753        False   False          False    False       False   False   \n",
       "936        False   False          False    False       False   False   \n",
       "1082       False   False          False    False       False   False   \n",
       "1340       False   False          False    False       False   False   \n",
       "3331       False   False          False    False       False   False   \n",
       "3826       False   False          False    False       False   False   \n",
       "4380       False   False          False    False       False   False   \n",
       "5218       False   False          False    False       False   False   \n",
       "6670       False   False          False    False       False   False   \n",
       "6754       False   False          False    False       False   False   \n",
       "\n",
       "      PhoneService  MultipleLines  InternetService  OnlineSecurity  ...  \\\n",
       "488          False          False            False           False  ...   \n",
       "753          False          False            False           False  ...   \n",
       "936          False          False            False           False  ...   \n",
       "1082         False          False            False           False  ...   \n",
       "1340         False          False            False           False  ...   \n",
       "3331         False          False            False           False  ...   \n",
       "3826         False          False            False           False  ...   \n",
       "4380         False          False            False           False  ...   \n",
       "5218         False          False            False           False  ...   \n",
       "6670         False          False            False           False  ...   \n",
       "6754         False          False            False           False  ...   \n",
       "\n",
       "      DeviceProtection  TechSupport  StreamingTV  StreamingMovies  Contract  \\\n",
       "488              False        False        False            False     False   \n",
       "753              False        False        False            False     False   \n",
       "936              False        False        False            False     False   \n",
       "1082             False        False        False            False     False   \n",
       "1340             False        False        False            False     False   \n",
       "3331             False        False        False            False     False   \n",
       "3826             False        False        False            False     False   \n",
       "4380             False        False        False            False     False   \n",
       "5218             False        False        False            False     False   \n",
       "6670             False        False        False            False     False   \n",
       "6754             False        False        False            False     False   \n",
       "\n",
       "      PaperlessBilling  PaymentMethod  MonthlyCharges  TotalCharges  Churn  \n",
       "488              False          False           False         False  False  \n",
       "753              False          False           False         False  False  \n",
       "936              False          False           False         False  False  \n",
       "1082             False          False           False         False  False  \n",
       "1340             False          False           False         False  False  \n",
       "3331             False          False           False         False  False  \n",
       "3826             False          False           False         False  False  \n",
       "4380             False          False           False         False  False  \n",
       "5218             False          False           False         False  False  \n",
       "6670             False          False           False         False  False  \n",
       "6754             False          False           False         False  False  \n",
       "\n",
       "[11 rows x 21 columns]"
      ]
     },
     "execution_count": 706,
     "metadata": {},
     "output_type": "execute_result"
    }
   ],
   "source": [
    "#the column of TotalCharges is blanks \n",
    "df[df['TotalCharges'].isin([\" \"])] == True"
   ]
  },
  {
   "cell_type": "markdown",
   "id": "bf823f86",
   "metadata": {},
   "source": [
    "### any column content nan value\n",
    "><ol>\n",
    "    <li> column TotalCharges content blanks value and is numerical continuous </li>\n",
    "</ol>"
   ]
  },
  {
   "cell_type": "markdown",
   "id": "e187df15",
   "metadata": {},
   "source": [
    "### Data Cleaning\n",
    "> **Tip**: Make sure that you keep your reader informed on the steps that you are taking in your investigation. Follow every code cell, or every set of related code cells, with a markdown cell to describe to the reader what was found in the preceding cell(s). Try to make it so that the reader can then understand what they will be seeing in the following cell(s).\n",
    " "
   ]
  },
  {
   "cell_type": "code",
   "execution_count": 707,
   "id": "eb3d29a3",
   "metadata": {},
   "outputs": [],
   "source": [
    "# fill in the blanks value by nan\n",
    "df['TotalCharges'] = df['TotalCharges'].replace(\" \",np.nan)"
   ]
  },
  {
   "cell_type": "code",
   "execution_count": 746,
   "id": "162277a1",
   "metadata": {},
   "outputs": [
    {
     "name": "stdout",
     "output_type": "stream",
     "text": [
      "False\n"
     ]
    },
    {
     "data": {
      "text/plain": [
       "customerID          0\n",
       "gender              0\n",
       "SeniorCitizen       0\n",
       "Partner             0\n",
       "Dependents          0\n",
       "tenure              0\n",
       "PhoneService        0\n",
       "MultipleLines       0\n",
       "InternetService     0\n",
       "OnlineSecurity      0\n",
       "OnlineBackup        0\n",
       "DeviceProtection    0\n",
       "TechSupport         0\n",
       "StreamingTV         0\n",
       "StreamingMovies     0\n",
       "Contract            0\n",
       "PaperlessBilling    0\n",
       "PaymentMethod       0\n",
       "MonthlyCharges      0\n",
       "TotalCharges        0\n",
       "Churn               0\n",
       "dtype: int64"
      ]
     },
     "execution_count": 746,
     "metadata": {},
     "output_type": "execute_result"
    }
   ],
   "source": [
    "# Validate that we have addressed any NaN values\n",
    "print(df.isnull().values.any())\n",
    "df.isnull().sum()"
   ]
  },
  {
   "cell_type": "code",
   "execution_count": 708,
   "id": "82d93a67",
   "metadata": {},
   "outputs": [],
   "source": [
    "# convert the coulmn TotalCharges to float\n",
    "df['TotalCharges'] = df['TotalCharges'].astype(float)"
   ]
  },
  {
   "cell_type": "code",
   "execution_count": 709,
   "id": "0f409916",
   "metadata": {},
   "outputs": [
    {
     "data": {
      "text/plain": [
       "numpy.float64"
      ]
     },
     "execution_count": 709,
     "metadata": {},
     "output_type": "execute_result"
    }
   ],
   "source": [
    "#check from converted\n",
    "type(df['TotalCharges'][0])"
   ]
  },
  {
   "cell_type": "code",
   "execution_count": 710,
   "id": "0f1ca52f",
   "metadata": {},
   "outputs": [],
   "source": [
    "# fill NaN value for TotalCharges column\n",
    "df['TotalCharges'] = df['TotalCharges'].fillna(df['tenure']* df['MonthlyCharges'])"
   ]
  },
  {
   "cell_type": "code",
   "execution_count": 711,
   "id": "b2ed1754",
   "metadata": {},
   "outputs": [
    {
     "data": {
      "text/plain": [
       "0"
      ]
     },
     "execution_count": 711,
     "metadata": {},
     "output_type": "execute_result"
    }
   ],
   "source": [
    "# check if there find duplicate data\n",
    "df.duplicated().sum()"
   ]
  },
  {
   "cell_type": "markdown",
   "id": "72c8b9f0",
   "metadata": {},
   "source": [
    "<a id='eda'></a>\n",
    "## Exploratory Data Analysis\n",
    "\n",
    "> **Tip**: Now that you've trimmed and cleaned your data, you're ready to move on to exploration.\n",
    "**Compute statistics** and **create visualizations** with the goal of addressing the research questions that you posed in the Introduction section\n"
   ]
  },
  {
   "cell_type": "code",
   "execution_count": 712,
   "id": "00e2afd5",
   "metadata": {},
   "outputs": [
    {
     "data": {
      "text/html": [
       "<div>\n",
       "<style scoped>\n",
       "    .dataframe tbody tr th:only-of-type {\n",
       "        vertical-align: middle;\n",
       "    }\n",
       "\n",
       "    .dataframe tbody tr th {\n",
       "        vertical-align: top;\n",
       "    }\n",
       "\n",
       "    .dataframe thead th {\n",
       "        text-align: right;\n",
       "    }\n",
       "</style>\n",
       "<table border=\"1\" class=\"dataframe\">\n",
       "  <thead>\n",
       "    <tr style=\"text-align: right;\">\n",
       "      <th></th>\n",
       "      <th>SeniorCitizen</th>\n",
       "      <th>tenure</th>\n",
       "      <th>MonthlyCharges</th>\n",
       "      <th>TotalCharges</th>\n",
       "    </tr>\n",
       "  </thead>\n",
       "  <tbody>\n",
       "    <tr>\n",
       "      <th>count</th>\n",
       "      <td>7043.000000</td>\n",
       "      <td>7043.000000</td>\n",
       "      <td>7043.000000</td>\n",
       "      <td>7043.000000</td>\n",
       "    </tr>\n",
       "    <tr>\n",
       "      <th>mean</th>\n",
       "      <td>0.162147</td>\n",
       "      <td>32.371149</td>\n",
       "      <td>64.761692</td>\n",
       "      <td>2279.734304</td>\n",
       "    </tr>\n",
       "    <tr>\n",
       "      <th>std</th>\n",
       "      <td>0.368612</td>\n",
       "      <td>24.559481</td>\n",
       "      <td>30.090047</td>\n",
       "      <td>2266.794470</td>\n",
       "    </tr>\n",
       "    <tr>\n",
       "      <th>min</th>\n",
       "      <td>0.000000</td>\n",
       "      <td>0.000000</td>\n",
       "      <td>18.250000</td>\n",
       "      <td>0.000000</td>\n",
       "    </tr>\n",
       "    <tr>\n",
       "      <th>25%</th>\n",
       "      <td>0.000000</td>\n",
       "      <td>9.000000</td>\n",
       "      <td>35.500000</td>\n",
       "      <td>398.550000</td>\n",
       "    </tr>\n",
       "    <tr>\n",
       "      <th>50%</th>\n",
       "      <td>0.000000</td>\n",
       "      <td>29.000000</td>\n",
       "      <td>70.350000</td>\n",
       "      <td>1394.550000</td>\n",
       "    </tr>\n",
       "    <tr>\n",
       "      <th>75%</th>\n",
       "      <td>0.000000</td>\n",
       "      <td>55.000000</td>\n",
       "      <td>89.850000</td>\n",
       "      <td>3786.600000</td>\n",
       "    </tr>\n",
       "    <tr>\n",
       "      <th>max</th>\n",
       "      <td>1.000000</td>\n",
       "      <td>72.000000</td>\n",
       "      <td>118.750000</td>\n",
       "      <td>8684.800000</td>\n",
       "    </tr>\n",
       "  </tbody>\n",
       "</table>\n",
       "</div>"
      ],
      "text/plain": [
       "       SeniorCitizen       tenure  MonthlyCharges  TotalCharges\n",
       "count    7043.000000  7043.000000     7043.000000   7043.000000\n",
       "mean        0.162147    32.371149       64.761692   2279.734304\n",
       "std         0.368612    24.559481       30.090047   2266.794470\n",
       "min         0.000000     0.000000       18.250000      0.000000\n",
       "25%         0.000000     9.000000       35.500000    398.550000\n",
       "50%         0.000000    29.000000       70.350000   1394.550000\n",
       "75%         0.000000    55.000000       89.850000   3786.600000\n",
       "max         1.000000    72.000000      118.750000   8684.800000"
      ]
     },
     "execution_count": 712,
     "metadata": {},
     "output_type": "execute_result"
    }
   ],
   "source": [
    "# Describe the dataset\n",
    "df.describe()"
   ]
  },
  {
   "cell_type": "markdown",
   "id": "c633b922",
   "metadata": {},
   "source": [
    "### Question 1) what is Target variable- Churn?"
   ]
  },
  {
   "cell_type": "code",
   "execution_count": 747,
   "id": "f2d9a752",
   "metadata": {},
   "outputs": [
    {
     "data": {
      "text/plain": [
       "Churn\n",
       "No     0.73463\n",
       "Yes    0.26537\n",
       "dtype: float64"
      ]
     },
     "execution_count": 747,
     "metadata": {},
     "output_type": "execute_result"
    }
   ],
   "source": [
    "df.groupby('Churn').size() / len(df)"
   ]
  },
  {
   "cell_type": "code",
   "execution_count": 753,
   "id": "76b8a3e7",
   "metadata": {},
   "outputs": [
    {
     "data": {
      "text/plain": [
       "<seaborn.axisgrid.FacetGrid at 0x28390297610>"
      ]
     },
     "execution_count": 753,
     "metadata": {},
     "output_type": "execute_result"
    },
    {
     "data": {
      "image/png": "[encoded data removed]",
      "text/plain": [
       "<Figure size 861.12x187.2 with 1 Axes>"
      ]
     },
     "metadata": {
      "needs_background": "light"
     },
     "output_type": "display_data"
    }
   ],
   "source": [
    "sns.catplot(data=df,y='Churn',kind = 'count',height=2.6, aspect=4.6)"
   ]
  },
  {
   "cell_type": "markdown",
   "id": "0b1bceee",
   "metadata": {},
   "source": [
    "### Question 2) what is the percentage of customers associated with the company that left it ?"
   ]
  },
  {
   "cell_type": "code",
   "execution_count": 754,
   "id": "b8c1af27",
   "metadata": {},
   "outputs": [
    {
     "data": {
      "image/png": "[encoded data removed]",
      "text/plain": [
       "<Figure size 1080x720 with 1 Axes>"
      ]
     },
     "metadata": {},
     "output_type": "display_data"
    }
   ],
   "source": [
    "# 'Yes' means that the customer left the compony.\n",
    "# 'No'  means that the customer still subscribe in the company.\n",
    "associated = len(df[df[\"Churn\"]==\"No\"])\n",
    "Left = len(df[df[\"Churn\"]==\"Yes\"])\n",
    "Churn = np.array([Left,associated])\n",
    "plt.figure(figsize=(15,10))\n",
    "plt.suptitle(\" the percentage of customers associated with the company that left it \")\n",
    "mylabels = [\"Yes\", \"No\"]\n",
    "plt.pie(Churn, labels = mylabels,autopct='%1.1f%%')\n",
    "plt.show() "
   ]
  },
  {
   "cell_type": "markdown",
   "id": "1e6d42fd",
   "metadata": {},
   "source": [
    "### Question 3) what is frequency distributions for  the tenure?"
   ]
  },
  {
   "cell_type": "code",
   "execution_count": 755,
   "id": "97cf649c",
   "metadata": {},
   "outputs": [
    {
     "data": {
      "image/png": "[encoded data removed]",
      "text/plain": [
       "<Figure size 1080x720 with 1 Axes>"
      ]
     },
     "metadata": {
      "needs_background": "light"
     },
     "output_type": "display_data"
    }
   ],
   "source": [
    "x = df.query(\"Churn == 'No' \")[\"tenure\"].values\n",
    "plt.figure(figsize=(15,10))\n",
    "plt.xlabel(\" the total amount of months that the customer has been with the companye\",fontsize=14)\n",
    "plt.ylabel(\"the total count of customers\",fontsize=14)\n",
    "plt.suptitle(\" the frequency distributions for  the tenure\")\n",
    "plt.hist(x)\n",
    "plt.show()"
   ]
  },
  {
   "cell_type": "markdown",
   "id": "e88a654e",
   "metadata": {},
   "source": [
    "### Questions 4) How many customers subscribe to each service?"
   ]
  },
  {
   "cell_type": "code",
   "execution_count": 715,
   "id": "0f67e37f",
   "metadata": {},
   "outputs": [],
   "source": [
    "# Function for get the count of customers with type Services\n",
    "def getCount(typeService):\n",
    "    res = df.query(\"Churn == 'No' \").groupby(typeService).size()\n",
    "    service = []\n",
    "    for x in range(res.size):\n",
    "        service.append(res.values[x])\n",
    "    return service"
   ]
  },
  {
   "cell_type": "code",
   "execution_count": 716,
   "id": "c49b9df3",
   "metadata": {},
   "outputs": [],
   "source": [
    "# Function for get the Pie shape with type Services\n",
    "def pieShape(x,mylabels,title,x_axis,y_axis):\n",
    "    axs[x_axis,y_axis].pie(x, labels = mylabels,autopct='%1.1f%%')\n",
    "    axs[x_axis,y_axis].set_title(title)"
   ]
  },
  {
   "cell_type": "code",
   "execution_count": 717,
   "id": "cc7bf0dc",
   "metadata": {
    "scrolled": true
   },
   "outputs": [
    {
     "data": {
      "image/png": "[encoded data removed]",
      "text/plain": [
       "<Figure size 432x288 with 9 Axes>"
      ]
     },
     "metadata": {},
     "output_type": "display_data"
    }
   ],
   "source": [
    "fig , axs = plt.subplots(3, 3)\n",
    "# PhoneService \n",
    "mylabels = [\"No\",\"Yes\"]\n",
    "pieShape(getCount('PhoneService'),mylabels,\"Phone Service\",0,0)\n",
    "# InternetService\n",
    "mylabels = [\"DSL\", \"Fiber optic\",\"No\"]\n",
    "pieShape(getCount('InternetService'),mylabels,\"Internet Service\",0,1)\n",
    "# MultipleLines\n",
    "mylabels = [\"No\", \"No internet service \",\"Yes\"]\n",
    "pieShape(getCount('MultipleLines'),mylabels,\"Multiple Lines\",0,2)\n",
    "# OnlineSecurity\n",
    "pieShape(getCount('OnlineSecurity'),mylabels,\"Online Security\",1,0)\n",
    "# OnlineBackup\n",
    "pieShape(getCount('OnlineBackup'),mylabels,\"OnlineBackup\",1,1)\n",
    "# DeviceProtection\n",
    "pieShape(getCount('DeviceProtection'),mylabels,\"Device Protection\",1,2)\n",
    "# TechSupport\n",
    "pieShape(getCount('TechSupport'),mylabels,\"Tech Support\",2,0)\n",
    "# StreamingTV\n",
    "pieShape(getCount('StreamingTV'),mylabels,\"Streaming TV\",2,1)\n",
    "# StreamingMovies\n",
    "pieShape(getCount('StreamingMovies'),mylabels,\"Streaming Movies\",2,2)\n",
    "fig.tight_layout(pad=1.08, h_pad=2, w_pad=1.0, rect=(0, 0, 3, 1.31))"
   ]
  },
  {
   "cell_type": "markdown",
   "id": "3d5fc456",
   "metadata": {},
   "source": [
    "### Questions 5) probability each type of customer  to subscribes home phone service with the company?"
   ]
  },
  {
   "cell_type": "code",
   "execution_count": 718,
   "id": "f5c9198e",
   "metadata": {},
   "outputs": [
    {
     "data": {
      "text/plain": [
       "(0.504756495811444, 0.495243504188556)"
      ]
     },
     "execution_count": 718,
     "metadata": {},
     "output_type": "execute_result"
    }
   ],
   "source": [
    "# What proportion of gender male who subscribes home phone service ?\n",
    "#df.query(\"gender == 'Male'\")['PhoneService'].mean()\n",
    "Male = df[df[\"gender\"]==\"Male\"]\n",
    "Female = df[df[\"gender\"]==\"Female\"]\n",
    "Pro_Male = len(Male) / len(df)\n",
    "Pro_Female = len(Female) / len(df)\n",
    "Pro_Male , Pro_Female"
   ]
  },
  {
   "cell_type": "code",
   "execution_count": 719,
   "id": "346d22fc",
   "metadata": {},
   "outputs": [
    {
     "data": {
      "text/plain": [
       "(0.9012658227848102, 0.09873417721518987)"
      ]
     },
     "execution_count": 719,
     "metadata": {},
     "output_type": "execute_result"
    }
   ],
   "source": [
    "sub_male = len(Male[Male['PhoneService']==\"Yes\"]) / len(Male)\n",
    "nosub_male = len(Male[Male['PhoneService']==\"No\"]) / len(Male)\n",
    "sub_male , nosub_male"
   ]
  },
  {
   "cell_type": "code",
   "execution_count": 720,
   "id": "2c33616e",
   "metadata": {},
   "outputs": [
    {
     "data": {
      "text/plain": [
       "(0.9051032110091743, 0.09489678899082568)"
      ]
     },
     "execution_count": 720,
     "metadata": {},
     "output_type": "execute_result"
    }
   ],
   "source": [
    "sub_female = len(Female[Female['PhoneService']==\"Yes\"]) / len(Female)\n",
    "nosub_female = len(Female[Female['PhoneService']==\"No\"]) / len(Female)\n",
    "sub_female , nosub_female"
   ]
  },
  {
   "cell_type": "code",
   "execution_count": 721,
   "id": "ffef97dc",
   "metadata": {},
   "outputs": [
    {
     "data": {
      "text/plain": [
       "50.36943876748939"
      ]
     },
     "execution_count": 721,
     "metadata": {},
     "output_type": "execute_result"
    }
   ],
   "source": [
    "# what is probability who subscribe is male\n",
    "res = (Pro_Male * sub_male / ((sub_male* Pro_Male)+(sub_female*Pro_Female)))*100\n",
    "res"
   ]
  },
  {
   "cell_type": "code",
   "execution_count": 722,
   "id": "705a7297",
   "metadata": {},
   "outputs": [
    {
     "data": {
      "text/plain": [
       "49.630561232510615"
      ]
     },
     "execution_count": 722,
     "metadata": {},
     "output_type": "execute_result"
    }
   ],
   "source": [
    "# what is probability who subscribe is Female\n",
    "res = (Pro_Female * sub_female / ((sub_male* Pro_Male)+(sub_female*Pro_Female)))*100\n",
    "res"
   ]
  },
  {
   "cell_type": "markdown",
   "id": "19720c39",
   "metadata": {},
   "source": [
    "### Questions 6)  probability customer  subscribes DSL or Fiber if he  had subscribed home phone service with the company?"
   ]
  },
  {
   "cell_type": "code",
   "execution_count": 723,
   "id": "ffc3355d",
   "metadata": {},
   "outputs": [
    {
     "data": {
      "text/plain": [
       "(0.34374556297032516, 0.4395854039471816, 0.21666903308249325)"
      ]
     },
     "execution_count": 723,
     "metadata": {},
     "output_type": "execute_result"
    }
   ],
   "source": [
    "# What proportion of customer that is Dsl or Fiber or no service ?\n",
    "Dsl = df[df['InternetService']==\"DSL\"]\n",
    "Fiber = df[df['InternetService']==\"Fiber optic\"]\n",
    "NoInternet = df[df['InternetService']==\"No\"]\n",
    "pro_Dsl =  len(Dsl) / len(df)\n",
    "pro_Fiber = len(Fiber) / len(df)\n",
    "pro_NoInternet = len(NoInternet) / len(df)\n",
    "pro_Dsl ,pro_Fiber ,pro_NoInternet "
   ]
  },
  {
   "cell_type": "code",
   "execution_count": 724,
   "id": "c42372fd",
   "metadata": {},
   "outputs": [
    {
     "data": {
      "text/plain": [
       "(0.7182982238744321, 1.0, 1.0)"
      ]
     },
     "execution_count": 724,
     "metadata": {},
     "output_type": "execute_result"
    }
   ],
   "source": [
    "# What proportion of customer who subscribes Dsl or Fiber or no service ?\n",
    "sub_dsl = df.query(\"PhoneService == 'Yes' & InternetService == 'DSL'\")\n",
    "sub_fiber = df.query(\"PhoneService == 'Yes' & InternetService == 'Fiber optic'\")\n",
    "sub_nointernet = df.query(\"PhoneService == 'Yes' & InternetService == 'No'\")\n",
    "pro_sub_dsl =  len(sub_dsl) / len(Dsl)\n",
    "pro_sub_fiber = len(sub_fiber) / len(Fiber)\n",
    "pro_sub_nointernet = len(sub_nointernet) / len(NoInternet)\n",
    "pro_sub_dsl,pro_sub_fiber, pro_sub_nointernet"
   ]
  },
  {
   "cell_type": "code",
   "execution_count": 725,
   "id": "6d5369a3",
   "metadata": {},
   "outputs": [
    {
     "data": {
      "text/plain": [
       "(0.28170177612556796, 0.0, 0.0)"
      ]
     },
     "execution_count": 725,
     "metadata": {},
     "output_type": "execute_result"
    }
   ],
   "source": [
    "# What proportion of customer subscribes DSL or Fiber Optical if he hadn't subscribed PhoneService ?\n",
    "nosub_dsl = df.query(\"PhoneService == 'No' & InternetService == 'DSL'\")\n",
    "nosub_fiber = df.query(\"PhoneService == 'No' & InternetService == 'Fiber optic'\")\n",
    "nosub_nointernet = df.query(\"PhoneService == 'No' & InternetService == 'No'\")\n",
    "pro_nosub_dsl =  len(nosub_dsl) / len(Dsl)\n",
    "pro_nosub_fiber = len(nosub_fiber) / len(Fiber)\n",
    "pro_nosub_nointernet = len(nosub_nointernet) / len(NoInternet)\n",
    "pro_nosub_dsl,pro_nosub_fiber, pro_nosub_nointernet"
   ]
  },
  {
   "cell_type": "code",
   "execution_count": 726,
   "id": "a4c6d82a",
   "metadata": {},
   "outputs": [
    {
     "data": {
      "text/plain": [
       "27.338468794214748"
      ]
     },
     "execution_count": 726,
     "metadata": {},
     "output_type": "execute_result"
    }
   ],
   "source": [
    "# what is probability that customer is DSL if he subscribe\n",
    "res =  pro_Dsl * (pro_sub_dsl )/ ((pro_sub_dsl * pro_Dsl)+(pro_sub_fiber*pro_Fiber)+(pro_sub_nointernet*pro_NoInternet))\n",
    "res *100"
   ]
  },
  {
   "cell_type": "code",
   "execution_count": 727,
   "id": "21473deb",
   "metadata": {},
   "outputs": [
    {
     "data": {
      "text/plain": [
       "48.67159251689986"
      ]
     },
     "execution_count": 727,
     "metadata": {},
     "output_type": "execute_result"
    }
   ],
   "source": [
    "# what is probability that customer is Fiber if he subscribe\n",
    "res =  pro_Fiber * (pro_sub_fiber )/ ((pro_sub_dsl * pro_Dsl)+(pro_sub_fiber*pro_Fiber)+(pro_sub_nointernet*pro_NoInternet))\n",
    "res *100"
   ]
  },
  {
   "cell_type": "code",
   "execution_count": 728,
   "id": "3d8a1bc4",
   "metadata": {},
   "outputs": [
    {
     "data": {
      "text/plain": [
       "23.989938688885395"
      ]
     },
     "execution_count": 728,
     "metadata": {},
     "output_type": "execute_result"
    }
   ],
   "source": [
    "# what is probability that customer is No Internet if he subscribe\n",
    "res =  pro_NoInternet * (pro_sub_nointernet)/ ((pro_sub_dsl * pro_Dsl)+(pro_sub_fiber*pro_Fiber)+(pro_sub_nointernet*pro_NoInternet))\n",
    "res *100"
   ]
  },
  {
   "cell_type": "markdown",
   "id": "c8747625",
   "metadata": {},
   "source": [
    "### Questions 7) probability that the customer  subscribes online security if he  subscribes home phone service with the company?"
   ]
  },
  {
   "cell_type": "code",
   "execution_count": 729,
   "id": "6f120c33",
   "metadata": {},
   "outputs": [
    {
     "data": {
      "text/plain": [
       "(0.2866676132329973, 0.21666903308249325, 0.4966633536845094)"
      ]
     },
     "execution_count": 729,
     "metadata": {},
     "output_type": "execute_result"
    }
   ],
   "source": [
    "# What proportion of customer is subscribe OnlineSecurity ?\n",
    "Yes = df[df['OnlineSecurity']==\"Yes\"]\n",
    "No_internet_service = df[df['OnlineSecurity']==\"No internet service\"]\n",
    "No = df[df['OnlineSecurity']==\"No\"]\n",
    "pro_Yes =  len(Yes) / len(df)\n",
    "pro_No_internet_service = len(No_internet_service) / len(df)\n",
    "pro_No = len(No) / len(df)\n",
    "pro_Yes ,pro_No_internet_service ,pro_No "
   ]
  },
  {
   "cell_type": "code",
   "execution_count": 730,
   "id": "e8ff43fc",
   "metadata": {},
   "outputs": [
    {
     "data": {
      "text/plain": [
       "(0.8598315998018822, 1.0, 0.885934819897084)"
      ]
     },
     "execution_count": 730,
     "metadata": {},
     "output_type": "execute_result"
    }
   ],
   "source": [
    "# What proportion of  customer who subscribes OnlineSecurity ?\n",
    "sub_yes = df.query(\"PhoneService == 'Yes' & OnlineSecurity == 'Yes'\")\n",
    "sub_nointernet = df.query(\"PhoneService == 'Yes' & OnlineSecurity == 'No internet service'\")\n",
    "sub_no = df.query(\"PhoneService == 'Yes' & OnlineSecurity == 'No'\")\n",
    "pro_sub_yes =  len(sub_yes) / len(Yes)\n",
    "pro_sub_nointernet = len(sub_nointernet) / len(No_internet_service)\n",
    "pro_sub_no = len(sub_no) / len(No)\n",
    "pro_sub_yes,pro_sub_nointernet, pro_sub_no "
   ]
  },
  {
   "cell_type": "code",
   "execution_count": 731,
   "id": "539b338e",
   "metadata": {},
   "outputs": [
    {
     "data": {
      "text/plain": [
       "27.291306398365034"
      ]
     },
     "execution_count": 731,
     "metadata": {},
     "output_type": "execute_result"
    }
   ],
   "source": [
    "# what probability that customer is subscribe in OnlineSecurity if he is had phone service\n",
    "res =  pro_Yes * (pro_sub_yes )/ ((pro_sub_yes * pro_Yes)+(pro_sub_nointernet*pro_No_internet_service)+(pro_sub_no*pro_No))\n",
    "res *100"
   ]
  },
  {
   "cell_type": "code",
   "execution_count": 732,
   "id": "0b18e59a",
   "metadata": {},
   "outputs": [
    {
     "data": {
      "text/plain": [
       "48.71875491274956"
      ]
     },
     "execution_count": 732,
     "metadata": {},
     "output_type": "execute_result"
    }
   ],
   "source": [
    "# what probability that customer is no subscribe in OnlineSecurity if he is had phone service\n",
    "res =  pro_No * (pro_sub_no )/ ((pro_sub_yes * pro_Yes)+(pro_sub_nointernet*pro_No_internet_service)+(pro_sub_no*pro_No))\n",
    "res *100"
   ]
  },
  {
   "cell_type": "code",
   "execution_count": 733,
   "id": "236c0ae4",
   "metadata": {},
   "outputs": [
    {
     "data": {
      "text/plain": [
       "23.989938688885395"
      ]
     },
     "execution_count": 733,
     "metadata": {},
     "output_type": "execute_result"
    }
   ],
   "source": [
    "# what probability that customer is no have Internet service in OnlineSecurity if he is had phone service\n",
    "res =  pro_No_internet_service * (pro_sub_nointernet )/ ((pro_sub_yes * pro_Yes)+(pro_sub_nointernet*pro_No_internet_service)+(pro_sub_no*pro_No))\n",
    "res *100"
   ]
  },
  {
   "cell_type": "markdown",
   "id": "7eecc394",
   "metadata": {},
   "source": [
    "### Questions 8) probability that the customer  subscribes TechSupport if he  subscribes home phone service with the company?"
   ]
  },
  {
   "cell_type": "code",
   "execution_count": 734,
   "id": "28fc38f6",
   "metadata": {},
   "outputs": [
    {
     "data": {
      "text/plain": [
       "(0.2902172369728809, 0.21666903308249325, 0.4931137299446259)"
      ]
     },
     "execution_count": 734,
     "metadata": {},
     "output_type": "execute_result"
    }
   ],
   "source": [
    "# What proportion of customer is subscribe TechSupport ?\n",
    "Yes = df[df['TechSupport']==\"Yes\"]\n",
    "No_internet_service = df[df['TechSupport']==\"No internet service\"]\n",
    "No = df[df['TechSupport']==\"No\"]\n",
    "pro_Yes =  len(Yes) / len(df)\n",
    "pro_No_internet_service = len(No_internet_service) / len(df)\n",
    "pro_No = len(No) / len(df)\n",
    "pro_Yes ,pro_No_internet_service ,pro_No "
   ]
  },
  {
   "cell_type": "code",
   "execution_count": 735,
   "id": "99890cb7",
   "metadata": {},
   "outputs": [
    {
     "data": {
      "text/plain": [
       "(0.8586105675146771, 1.0, 0.8868413475381515)"
      ]
     },
     "execution_count": 735,
     "metadata": {},
     "output_type": "execute_result"
    }
   ],
   "source": [
    "# What proportion of  customer who subscribes TechSupport ?\n",
    "sub_yes = df.query(\"PhoneService == 'Yes' & TechSupport == 'Yes'\")\n",
    "sub_nointernet = df.query(\"PhoneService == 'Yes' & TechSupport == 'No internet service'\")\n",
    "sub_no = df.query(\"PhoneService == 'Yes' & TechSupport == 'No'\")\n",
    "pro_sub_yes =  len(sub_yes) / len(Yes)\n",
    "pro_sub_nointernet = len(sub_nointernet) / len(No_internet_service)\n",
    "pro_sub_no = len(sub_no) / len(No)\n",
    "pro_sub_yes,pro_sub_nointernet, pro_sub_no "
   ]
  },
  {
   "cell_type": "code",
   "execution_count": 736,
   "id": "1f5b140c",
   "metadata": {},
   "outputs": [
    {
     "data": {
      "text/plain": [
       "27.590001572079863"
      ]
     },
     "execution_count": 736,
     "metadata": {},
     "output_type": "execute_result"
    }
   ],
   "source": [
    "# what probability that customer is subscribe in TechSupport if he is had phone service\n",
    "res =  pro_Yes * (pro_sub_yes )/ ((pro_sub_yes * pro_Yes)+(pro_sub_nointernet*pro_No_internet_service)+(pro_sub_no*pro_No))\n",
    "res *100"
   ]
  },
  {
   "cell_type": "code",
   "execution_count": 737,
   "id": "b6030082",
   "metadata": {},
   "outputs": [
    {
     "data": {
      "text/plain": [
       "48.42005973903475"
      ]
     },
     "execution_count": 737,
     "metadata": {},
     "output_type": "execute_result"
    }
   ],
   "source": [
    "# what probability that customer is no subscribe in TechSupport if he is had phone service\n",
    "res =  pro_No * (pro_sub_no )/ ((pro_sub_yes * pro_Yes)+(pro_sub_nointernet*pro_No_internet_service)+(pro_sub_no*pro_No))\n",
    "res *100"
   ]
  },
  {
   "cell_type": "code",
   "execution_count": 738,
   "id": "ce88cb05",
   "metadata": {},
   "outputs": [
    {
     "data": {
      "text/plain": [
       "23.989938688885395"
      ]
     },
     "execution_count": 738,
     "metadata": {},
     "output_type": "execute_result"
    }
   ],
   "source": [
    "# what probability that customer is no have Internet service in TechSupport if he is had phone service\n",
    "res =  pro_No_internet_service * (pro_sub_nointernet )/ ((pro_sub_yes * pro_Yes)+(pro_sub_nointernet*pro_No_internet_service)+(pro_sub_no*pro_No))\n",
    "res *100"
   ]
  },
  {
   "cell_type": "markdown",
   "id": "fadcca48",
   "metadata": {},
   "source": [
    "### Questions 9) what is  Calculating confidence interval for difference in mean total charges between males and females ?"
   ]
  },
  {
   "cell_type": "code",
   "execution_count": 739,
   "id": "af749429",
   "metadata": {},
   "outputs": [
    {
     "data": {
      "text/html": [
       "<div>\n",
       "<style scoped>\n",
       "    .dataframe tbody tr th:only-of-type {\n",
       "        vertical-align: middle;\n",
       "    }\n",
       "\n",
       "    .dataframe tbody tr th {\n",
       "        vertical-align: top;\n",
       "    }\n",
       "\n",
       "    .dataframe thead th {\n",
       "        text-align: right;\n",
       "    }\n",
       "</style>\n",
       "<table border=\"1\" class=\"dataframe\">\n",
       "  <thead>\n",
       "    <tr style=\"text-align: right;\">\n",
       "      <th></th>\n",
       "      <th>customerID</th>\n",
       "      <th>gender</th>\n",
       "      <th>SeniorCitizen</th>\n",
       "      <th>Partner</th>\n",
       "      <th>Dependents</th>\n",
       "      <th>tenure</th>\n",
       "      <th>PhoneService</th>\n",
       "      <th>MultipleLines</th>\n",
       "      <th>InternetService</th>\n",
       "      <th>OnlineSecurity</th>\n",
       "      <th>...</th>\n",
       "      <th>DeviceProtection</th>\n",
       "      <th>TechSupport</th>\n",
       "      <th>StreamingTV</th>\n",
       "      <th>StreamingMovies</th>\n",
       "      <th>Contract</th>\n",
       "      <th>PaperlessBilling</th>\n",
       "      <th>PaymentMethod</th>\n",
       "      <th>MonthlyCharges</th>\n",
       "      <th>TotalCharges</th>\n",
       "      <th>Churn</th>\n",
       "    </tr>\n",
       "  </thead>\n",
       "  <tbody>\n",
       "    <tr>\n",
       "      <th>0</th>\n",
       "      <td>7590-VHVEG</td>\n",
       "      <td>Female</td>\n",
       "      <td>0</td>\n",
       "      <td>Yes</td>\n",
       "      <td>No</td>\n",
       "      <td>1</td>\n",
       "      <td>No</td>\n",
       "      <td>No phone service</td>\n",
       "      <td>DSL</td>\n",
       "      <td>No</td>\n",
       "      <td>...</td>\n",
       "      <td>No</td>\n",
       "      <td>No</td>\n",
       "      <td>No</td>\n",
       "      <td>No</td>\n",
       "      <td>Month-to-month</td>\n",
       "      <td>Yes</td>\n",
       "      <td>Electronic check</td>\n",
       "      <td>29.85</td>\n",
       "      <td>29.85</td>\n",
       "      <td>No</td>\n",
       "    </tr>\n",
       "    <tr>\n",
       "      <th>1</th>\n",
       "      <td>5575-GNVDE</td>\n",
       "      <td>Male</td>\n",
       "      <td>0</td>\n",
       "      <td>No</td>\n",
       "      <td>No</td>\n",
       "      <td>34</td>\n",
       "      <td>Yes</td>\n",
       "      <td>No</td>\n",
       "      <td>DSL</td>\n",
       "      <td>Yes</td>\n",
       "      <td>...</td>\n",
       "      <td>Yes</td>\n",
       "      <td>No</td>\n",
       "      <td>No</td>\n",
       "      <td>No</td>\n",
       "      <td>One year</td>\n",
       "      <td>No</td>\n",
       "      <td>Mailed check</td>\n",
       "      <td>56.95</td>\n",
       "      <td>1889.50</td>\n",
       "      <td>No</td>\n",
       "    </tr>\n",
       "    <tr>\n",
       "      <th>2</th>\n",
       "      <td>3668-QPYBK</td>\n",
       "      <td>Male</td>\n",
       "      <td>0</td>\n",
       "      <td>No</td>\n",
       "      <td>No</td>\n",
       "      <td>2</td>\n",
       "      <td>Yes</td>\n",
       "      <td>No</td>\n",
       "      <td>DSL</td>\n",
       "      <td>Yes</td>\n",
       "      <td>...</td>\n",
       "      <td>No</td>\n",
       "      <td>No</td>\n",
       "      <td>No</td>\n",
       "      <td>No</td>\n",
       "      <td>Month-to-month</td>\n",
       "      <td>Yes</td>\n",
       "      <td>Mailed check</td>\n",
       "      <td>53.85</td>\n",
       "      <td>108.15</td>\n",
       "      <td>Yes</td>\n",
       "    </tr>\n",
       "    <tr>\n",
       "      <th>3</th>\n",
       "      <td>7795-CFOCW</td>\n",
       "      <td>Male</td>\n",
       "      <td>0</td>\n",
       "      <td>No</td>\n",
       "      <td>No</td>\n",
       "      <td>45</td>\n",
       "      <td>No</td>\n",
       "      <td>No phone service</td>\n",
       "      <td>DSL</td>\n",
       "      <td>Yes</td>\n",
       "      <td>...</td>\n",
       "      <td>Yes</td>\n",
       "      <td>Yes</td>\n",
       "      <td>No</td>\n",
       "      <td>No</td>\n",
       "      <td>One year</td>\n",
       "      <td>No</td>\n",
       "      <td>Bank transfer (automatic)</td>\n",
       "      <td>42.30</td>\n",
       "      <td>1840.75</td>\n",
       "      <td>No</td>\n",
       "    </tr>\n",
       "    <tr>\n",
       "      <th>4</th>\n",
       "      <td>9237-HQITU</td>\n",
       "      <td>Female</td>\n",
       "      <td>0</td>\n",
       "      <td>No</td>\n",
       "      <td>No</td>\n",
       "      <td>2</td>\n",
       "      <td>Yes</td>\n",
       "      <td>No</td>\n",
       "      <td>Fiber optic</td>\n",
       "      <td>No</td>\n",
       "      <td>...</td>\n",
       "      <td>No</td>\n",
       "      <td>No</td>\n",
       "      <td>No</td>\n",
       "      <td>No</td>\n",
       "      <td>Month-to-month</td>\n",
       "      <td>Yes</td>\n",
       "      <td>Electronic check</td>\n",
       "      <td>70.70</td>\n",
       "      <td>151.65</td>\n",
       "      <td>Yes</td>\n",
       "    </tr>\n",
       "  </tbody>\n",
       "</table>\n",
       "<p>5 rows × 21 columns</p>\n",
       "</div>"
      ],
      "text/plain": [
       "   customerID  gender  SeniorCitizen Partner Dependents  tenure PhoneService  \\\n",
       "0  7590-VHVEG  Female              0     Yes         No       1           No   \n",
       "1  5575-GNVDE    Male              0      No         No      34          Yes   \n",
       "2  3668-QPYBK    Male              0      No         No       2          Yes   \n",
       "3  7795-CFOCW    Male              0      No         No      45           No   \n",
       "4  9237-HQITU  Female              0      No         No       2          Yes   \n",
       "\n",
       "      MultipleLines InternetService OnlineSecurity  ... DeviceProtection  \\\n",
       "0  No phone service             DSL             No  ...               No   \n",
       "1                No             DSL            Yes  ...              Yes   \n",
       "2                No             DSL            Yes  ...               No   \n",
       "3  No phone service             DSL            Yes  ...              Yes   \n",
       "4                No     Fiber optic             No  ...               No   \n",
       "\n",
       "  TechSupport StreamingTV StreamingMovies        Contract PaperlessBilling  \\\n",
       "0          No          No              No  Month-to-month              Yes   \n",
       "1          No          No              No        One year               No   \n",
       "2          No          No              No  Month-to-month              Yes   \n",
       "3         Yes          No              No        One year               No   \n",
       "4          No          No              No  Month-to-month              Yes   \n",
       "\n",
       "               PaymentMethod MonthlyCharges  TotalCharges  Churn  \n",
       "0           Electronic check          29.85         29.85     No  \n",
       "1               Mailed check          56.95       1889.50     No  \n",
       "2               Mailed check          53.85        108.15    Yes  \n",
       "3  Bank transfer (automatic)          42.30       1840.75     No  \n",
       "4           Electronic check          70.70        151.65    Yes  \n",
       "\n",
       "[5 rows x 21 columns]"
      ]
     },
     "execution_count": 739,
     "metadata": {},
     "output_type": "execute_result"
    }
   ],
   "source": [
    "df.head()"
   ]
  },
  {
   "cell_type": "code",
   "execution_count": 740,
   "id": "f76e142b",
   "metadata": {},
   "outputs": [
    {
     "data": {
      "text/plain": [
       "(2279.5540084388176, 2279.918061926605)"
      ]
     },
     "execution_count": 740,
     "metadata": {},
     "output_type": "execute_result"
    }
   ],
   "source": [
    "# Create dataframe and compute the mean for TotalCharges  with all Male and Female \n",
    "male_mean = df.query(\"gender == 'Male'\")['TotalCharges'].mean()\n",
    "female_mean = df.query(\"gender == 'Female'\")['TotalCharges'].mean()\n",
    "male_mean,female_mean"
   ]
  },
  {
   "cell_type": "code",
   "execution_count": 741,
   "id": "cfa6493c",
   "metadata": {},
   "outputs": [
    {
     "data": {
      "text/plain": [
       "0.36405348778725966"
      ]
     },
     "execution_count": 741,
     "metadata": {},
     "output_type": "execute_result"
    }
   ],
   "source": [
    "# Compute observed difference in the mean for TotalCharges\n",
    "obs_diff = female_mean - male_mean \n",
    "obs_diff"
   ]
  },
  {
   "cell_type": "code",
   "execution_count": 742,
   "id": "f5ae70e4",
   "metadata": {},
   "outputs": [],
   "source": [
    "# Create sampling distribution for difference in the mean for TotalCharges with all Male and Female \n",
    "# with boostrapping\n",
    "diffs = []\n",
    "for _ in range(10000):\n",
    "    b_samp = df.sample(df.shape[0],replace = True)\n",
    "    male_mean = b_samp.query(\"gender == 'Male'\")['TotalCharges'].mean()\n",
    "    female_mean = b_samp.query(\"gender == 'Female'\")['TotalCharges'].mean()\n",
    "    diffs.append(female_mean-male_mean)"
   ]
  },
  {
   "cell_type": "code",
   "execution_count": 743,
   "id": "0231ac40",
   "metadata": {},
   "outputs": [
    {
     "data": {
      "image/png": "[encoded data removed]",
      "text/plain": [
       "<Figure size 432x288 with 1 Axes>"
      ]
     },
     "metadata": {
      "needs_background": "light"
     },
     "output_type": "display_data"
    }
   ],
   "source": [
    "# convert to numpy array\n",
    "diffs = np.array(diffs)\n",
    "plt.hist(diffs)\n",
    "plt.show()"
   ]
  },
  {
   "cell_type": "code",
   "execution_count": 744,
   "id": "4fb6c6ef",
   "metadata": {},
   "outputs": [
    {
     "data": {
      "image/png": "[encoded data removed]",
      "text/plain": [
       "<Figure size 432x288 with 1 Axes>"
      ]
     },
     "metadata": {
      "needs_background": "light"
     },
     "output_type": "display_data"
    }
   ],
   "source": [
    "# create distribution under the null hypothesis\n",
    "null_vals = np.random.normal(0,diffs.std(),diffs.size)\n",
    "plt.hist(null_vals)\n",
    "plt.axvline(x=obs_diff,color='red')\n",
    "plt.show()"
   ]
  },
  {
   "cell_type": "code",
   "execution_count": 745,
   "id": "eb64d67c",
   "metadata": {},
   "outputs": [
    {
     "data": {
      "text/plain": [
       "0.4979"
      ]
     },
     "execution_count": 745,
     "metadata": {},
     "output_type": "execute_result"
    }
   ],
   "source": [
    "# compute p value\n",
    "(null_vals>obs_diff).mean()"
   ]
  }
 ],
 "metadata": {
  "kernelspec": {
   "display_name": "Python 3",
   "language": "python",
   "name": "python3"
  },
  "language_info": {
   "codemirror_mode": {
    "name": "ipython",
    "version": 3
   },
   "file_extension": ".py",
   "mimetype": "text/x-python",
   "name": "python",
   "nbconvert_exporter": "python",
   "pygments_lexer": "ipython3",
   "version": "3.8.8"
  }
 },
 "nbformat": 4,
 "nbformat_minor": 5
}
