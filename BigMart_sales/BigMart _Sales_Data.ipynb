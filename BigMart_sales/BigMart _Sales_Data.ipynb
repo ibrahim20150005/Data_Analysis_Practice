{
 "cells": [
  {
   "cell_type": "markdown",
   "id": "1ed44c75",
   "metadata": {},
   "source": [
    "## Introduction\n",
    "### Data Description\n",
    ">The data scientists at BigMart have collected 2013 sales data for 1559 products across 10 stores in different cities. Also, certain attributes of each product and store have been defined\n",
    "\n",
    "### Question(s) for Analysis\n",
    "><ol>\n",
    "    <li> which products is the most and the least sales?</li>\n",
    "    <li> which tire that is the most revenue?</li>\n",
    "    <li> what is frequency distributions for the Maximum Retail Price?</li>\n",
    "    <li> what is frequency distributions for  the Maximum Item Visibility?</li>\n",
    "    <li> which outlet type that is the most revenue? </li>\n",
    "    <li> What is the count of product types according to the location of the outlet type?</li>\n",
    "    <li> which items category have most visiblty? </li>\n",
    "</ol>"
   ]
  },
  {
   "cell_type": "markdown",
   "id": "fbaff954",
   "metadata": {},
   "source": [
    "<a id='wrangling'></a>\n",
    "## Data Wrangling\n",
    "\n",
    "> **Tip**: In this section of the report, you will load in the data, check for cleanliness, and then trim and clean your dataset for analysis. Make sure that you **document your data cleaning steps in mark-down cells precisely and justify your cleaning decisions.**\n",
    "\n",
    "\n",
    "### General Properties\n",
    "> **Tip**: You should _not_ perform too many operations in each cell. Create cells freely to explore your data. One option that you can take with this project is to do a lot of explorations in an initial notebook. These don't have to be organized, but make sure you use enough comments to understand the purpose of each code cell. Then, after you're done with your analysis, create a duplicate notebook where you will trim the excess and organize your steps so that you have a flowing, cohesive report."
   ]
  },
  {
   "cell_type": "code",
   "execution_count": 56,
   "id": "46c78df7",
   "metadata": {},
   "outputs": [],
   "source": [
    "#import package and load dataset\n",
    "import pandas as pd\n",
    "import numpy as np\n",
    "import seaborn as sns\n",
    "import matplotlib.pyplot as plt\n",
    "%matplotlib inline\n",
    "df = pd.read_csv(\"train.csv\")"
   ]
  },
  {
   "cell_type": "code",
   "execution_count": 57,
   "id": "91700952",
   "metadata": {},
   "outputs": [
    {
     "data": {
      "text/html": [
       "<div>\n",
       "<style scoped>\n",
       "    .dataframe tbody tr th:only-of-type {\n",
       "        vertical-align: middle;\n",
       "    }\n",
       "\n",
       "    .dataframe tbody tr th {\n",
       "        vertical-align: top;\n",
       "    }\n",
       "\n",
       "    .dataframe thead th {\n",
       "        text-align: right;\n",
       "    }\n",
       "</style>\n",
       "<table border=\"1\" class=\"dataframe\">\n",
       "  <thead>\n",
       "    <tr style=\"text-align: right;\">\n",
       "      <th></th>\n",
       "      <th>Item_Identifier</th>\n",
       "      <th>Item_Weight</th>\n",
       "      <th>Item_Fat_Content</th>\n",
       "      <th>Item_Visibility</th>\n",
       "      <th>Item_Type</th>\n",
       "      <th>Item_MRP</th>\n",
       "      <th>Outlet_Identifier</th>\n",
       "      <th>Outlet_Establishment_Year</th>\n",
       "      <th>Outlet_Size</th>\n",
       "      <th>Outlet_Location_Type</th>\n",
       "      <th>Outlet_Type</th>\n",
       "      <th>Item_Outlet_Sales</th>\n",
       "    </tr>\n",
       "  </thead>\n",
       "  <tbody>\n",
       "    <tr>\n",
       "      <th>0</th>\n",
       "      <td>FDA15</td>\n",
       "      <td>9.30</td>\n",
       "      <td>Low Fat</td>\n",
       "      <td>0.016047</td>\n",
       "      <td>Dairy</td>\n",
       "      <td>249.8092</td>\n",
       "      <td>OUT049</td>\n",
       "      <td>1999</td>\n",
       "      <td>Medium</td>\n",
       "      <td>Tier 1</td>\n",
       "      <td>Supermarket Type1</td>\n",
       "      <td>3735.1380</td>\n",
       "    </tr>\n",
       "    <tr>\n",
       "      <th>1</th>\n",
       "      <td>DRC01</td>\n",
       "      <td>5.92</td>\n",
       "      <td>Regular</td>\n",
       "      <td>0.019278</td>\n",
       "      <td>Soft Drinks</td>\n",
       "      <td>48.2692</td>\n",
       "      <td>OUT018</td>\n",
       "      <td>2009</td>\n",
       "      <td>Medium</td>\n",
       "      <td>Tier 3</td>\n",
       "      <td>Supermarket Type2</td>\n",
       "      <td>443.4228</td>\n",
       "    </tr>\n",
       "    <tr>\n",
       "      <th>2</th>\n",
       "      <td>FDN15</td>\n",
       "      <td>17.50</td>\n",
       "      <td>Low Fat</td>\n",
       "      <td>0.016760</td>\n",
       "      <td>Meat</td>\n",
       "      <td>141.6180</td>\n",
       "      <td>OUT049</td>\n",
       "      <td>1999</td>\n",
       "      <td>Medium</td>\n",
       "      <td>Tier 1</td>\n",
       "      <td>Supermarket Type1</td>\n",
       "      <td>2097.2700</td>\n",
       "    </tr>\n",
       "    <tr>\n",
       "      <th>3</th>\n",
       "      <td>FDX07</td>\n",
       "      <td>19.20</td>\n",
       "      <td>Regular</td>\n",
       "      <td>0.000000</td>\n",
       "      <td>Fruits and Vegetables</td>\n",
       "      <td>182.0950</td>\n",
       "      <td>OUT010</td>\n",
       "      <td>1998</td>\n",
       "      <td>NaN</td>\n",
       "      <td>Tier 3</td>\n",
       "      <td>Grocery Store</td>\n",
       "      <td>732.3800</td>\n",
       "    </tr>\n",
       "    <tr>\n",
       "      <th>4</th>\n",
       "      <td>NCD19</td>\n",
       "      <td>8.93</td>\n",
       "      <td>Low Fat</td>\n",
       "      <td>0.000000</td>\n",
       "      <td>Household</td>\n",
       "      <td>53.8614</td>\n",
       "      <td>OUT013</td>\n",
       "      <td>1987</td>\n",
       "      <td>High</td>\n",
       "      <td>Tier 3</td>\n",
       "      <td>Supermarket Type1</td>\n",
       "      <td>994.7052</td>\n",
       "    </tr>\n",
       "  </tbody>\n",
       "</table>\n",
       "</div>"
      ],
      "text/plain": [
       "  Item_Identifier  Item_Weight Item_Fat_Content  Item_Visibility  \\\n",
       "0           FDA15         9.30          Low Fat         0.016047   \n",
       "1           DRC01         5.92          Regular         0.019278   \n",
       "2           FDN15        17.50          Low Fat         0.016760   \n",
       "3           FDX07        19.20          Regular         0.000000   \n",
       "4           NCD19         8.93          Low Fat         0.000000   \n",
       "\n",
       "               Item_Type  Item_MRP Outlet_Identifier  \\\n",
       "0                  Dairy  249.8092            OUT049   \n",
       "1            Soft Drinks   48.2692            OUT018   \n",
       "2                   Meat  141.6180            OUT049   \n",
       "3  Fruits and Vegetables  182.0950            OUT010   \n",
       "4              Household   53.8614            OUT013   \n",
       "\n",
       "   Outlet_Establishment_Year Outlet_Size Outlet_Location_Type  \\\n",
       "0                       1999      Medium               Tier 1   \n",
       "1                       2009      Medium               Tier 3   \n",
       "2                       1999      Medium               Tier 1   \n",
       "3                       1998         NaN               Tier 3   \n",
       "4                       1987        High               Tier 3   \n",
       "\n",
       "         Outlet_Type  Item_Outlet_Sales  \n",
       "0  Supermarket Type1          3735.1380  \n",
       "1  Supermarket Type2           443.4228  \n",
       "2  Supermarket Type1          2097.2700  \n",
       "3      Grocery Store           732.3800  \n",
       "4  Supermarket Type1           994.7052  "
      ]
     },
     "execution_count": 57,
     "metadata": {},
     "output_type": "execute_result"
    }
   ],
   "source": [
    "#show data and attributes\n",
    "df.head()"
   ]
  },
  {
   "cell_type": "markdown",
   "id": "259ede6a",
   "metadata": {},
   "source": [
    "## type of data\n",
    "<ul>\n",
    "<li> 1) weight quintative continous </li>\n",
    "<li> 2) Fat_Content categoral nominal </li>\n",
    "<li> 3) Item_Visibility quintative continous </li>\n",
    "<li> 4) Item_Type categoral nominal </li>\n",
    "<li> 5) Item_MRP quintative continous </li>\n",
    "<li> 6) Outlet_Identifier categoral nominal </li>\n",
    "<li> 7) Outlet_Establishment_Year quantitative discrite </li>\n",
    "<li> 8) Outlet_Size categorical ordinal </li>\n",
    "<li> 9) Outlet_Location_Type categorical nominal </li>\n",
    "<li> 10) Outlet_Type categorical nominal </li>\n",
    "<li> 11) Item_Outlet_Sales quintative continous </li>\n",
    "</ul>"
   ]
  },
  {
   "cell_type": "markdown",
   "id": "8f190ed4",
   "metadata": {},
   "source": [
    "### any column content nan value\n",
    "><ol>\n",
    "    <li> column item weight content Nan value and is numerical continuous</li>\n",
    "    <li> column outlet size content Nan value and is categorical ordinal</li>\n",
    "</ol>"
   ]
  },
  {
   "cell_type": "code",
   "execution_count": 58,
   "id": "668bf0ec",
   "metadata": {},
   "outputs": [
    {
     "data": {
      "text/plain": [
       "(8523, 12)"
      ]
     },
     "execution_count": 58,
     "metadata": {},
     "output_type": "execute_result"
    }
   ],
   "source": [
    "# the total of column and row\n",
    "df.shape"
   ]
  },
  {
   "cell_type": "code",
   "execution_count": 59,
   "id": "a3f02f22",
   "metadata": {},
   "outputs": [
    {
     "name": "stdout",
     "output_type": "stream",
     "text": [
      "<class 'pandas.core.frame.DataFrame'>\n",
      "RangeIndex: 8523 entries, 0 to 8522\n",
      "Data columns (total 12 columns):\n",
      " #   Column                     Non-Null Count  Dtype  \n",
      "---  ------                     --------------  -----  \n",
      " 0   Item_Identifier            8523 non-null   object \n",
      " 1   Item_Weight                7060 non-null   float64\n",
      " 2   Item_Fat_Content           8523 non-null   object \n",
      " 3   Item_Visibility            8523 non-null   float64\n",
      " 4   Item_Type                  8523 non-null   object \n",
      " 5   Item_MRP                   8523 non-null   float64\n",
      " 6   Outlet_Identifier          8523 non-null   object \n",
      " 7   Outlet_Establishment_Year  8523 non-null   int64  \n",
      " 8   Outlet_Size                6113 non-null   object \n",
      " 9   Outlet_Location_Type       8523 non-null   object \n",
      " 10  Outlet_Type                8523 non-null   object \n",
      " 11  Item_Outlet_Sales          8523 non-null   float64\n",
      "dtypes: float64(4), int64(1), object(7)\n",
      "memory usage: 799.2+ KB\n"
     ]
    }
   ],
   "source": [
    "# know data types\n",
    "df.info()"
   ]
  },
  {
   "cell_type": "code",
   "execution_count": 60,
   "id": "4b7b1662",
   "metadata": {},
   "outputs": [
    {
     "data": {
      "text/plain": [
       "str"
      ]
     },
     "execution_count": 60,
     "metadata": {},
     "output_type": "execute_result"
    }
   ],
   "source": [
    "# check any data type is Outlet Size \n",
    "type(df['Outlet_Size'][0])"
   ]
  },
  {
   "cell_type": "markdown",
   "id": "07a11ac5",
   "metadata": {},
   "source": [
    "### Data Cleaning\n",
    "> **Tip**: Make sure that you keep your reader informed on the steps that you are taking in your investigation. Follow every code cell, or every set of related code cells, with a markdown cell to describe to the reader what was found in the preceding cell(s). Try to make it so that the reader can then understand what they will be seeing in the following cell(s).\n",
    " "
   ]
  },
  {
   "cell_type": "code",
   "execution_count": 61,
   "id": "dd57aa6c",
   "metadata": {},
   "outputs": [
    {
     "data": {
      "text/plain": [
       "Outlet_Type        Outlet_Size\n",
       "Grocery Store      Small           528\n",
       "Supermarket Type1  Small          1860\n",
       "                   High            932\n",
       "                   Medium          930\n",
       "Supermarket Type2  Medium          928\n",
       "Supermarket Type3  Medium          935\n",
       "Name: Outlet_Size, dtype: int64"
      ]
     },
     "execution_count": 61,
     "metadata": {},
     "output_type": "execute_result"
    }
   ],
   "source": [
    "df.groupby('Outlet_Type')['Outlet_Size'].value_counts()"
   ]
  },
  {
   "cell_type": "code",
   "execution_count": 62,
   "id": "d4f46d1a",
   "metadata": {},
   "outputs": [
    {
     "data": {
      "text/plain": [
       "Outlet_Identifier\n",
       "OUT010      0\n",
       "OUT013    932\n",
       "OUT017      0\n",
       "OUT018    928\n",
       "OUT019    528\n",
       "OUT027    935\n",
       "OUT035    930\n",
       "OUT045      0\n",
       "OUT046    930\n",
       "OUT049    930\n",
       "Name: Outlet_Size, dtype: int64"
      ]
     },
     "execution_count": 62,
     "metadata": {},
     "output_type": "execute_result"
    }
   ],
   "source": [
    "df.groupby('Outlet_Identifier')['Outlet_Size'].count()"
   ]
  },
  {
   "cell_type": "code",
   "execution_count": 63,
   "id": "d2ae26a4",
   "metadata": {},
   "outputs": [
    {
     "data": {
      "text/plain": [
       "Outlet_Identifier  Outlet_Type      \n",
       "OUT010             Grocery Store        555\n",
       "OUT013             Supermarket Type1    932\n",
       "OUT017             Supermarket Type1    926\n",
       "OUT018             Supermarket Type2    928\n",
       "OUT019             Grocery Store        528\n",
       "OUT027             Supermarket Type3    935\n",
       "OUT035             Supermarket Type1    930\n",
       "OUT045             Supermarket Type1    929\n",
       "OUT046             Supermarket Type1    930\n",
       "OUT049             Supermarket Type1    930\n",
       "Name: Outlet_Type, dtype: int64"
      ]
     },
     "execution_count": 63,
     "metadata": {},
     "output_type": "execute_result"
    }
   ],
   "source": [
    "df.groupby('Outlet_Identifier')['Outlet_Type'].value_counts()"
   ]
  },
  {
   "cell_type": "code",
   "execution_count": 64,
   "id": "4837aed6",
   "metadata": {},
   "outputs": [],
   "source": [
    "# fill NaN value for Item_Weight column\n",
    "df['Item_Weight'].fillna(df['Item_Weight'].mean(),inplace=True)"
   ]
  },
  {
   "cell_type": "code",
   "execution_count": 65,
   "id": "7b2d1662",
   "metadata": {},
   "outputs": [],
   "source": [
    "# fill NaN value for Outlet_Size column\n",
    "df['Outlet_Size'].fillna(\"Small\",inplace=True)"
   ]
  },
  {
   "cell_type": "code",
   "execution_count": 66,
   "id": "3cfeddfd",
   "metadata": {},
   "outputs": [
    {
     "name": "stdout",
     "output_type": "stream",
     "text": [
      "<class 'pandas.core.frame.DataFrame'>\n",
      "RangeIndex: 8523 entries, 0 to 8522\n",
      "Data columns (total 12 columns):\n",
      " #   Column                     Non-Null Count  Dtype  \n",
      "---  ------                     --------------  -----  \n",
      " 0   Item_Identifier            8523 non-null   object \n",
      " 1   Item_Weight                8523 non-null   float64\n",
      " 2   Item_Fat_Content           8523 non-null   object \n",
      " 3   Item_Visibility            8523 non-null   float64\n",
      " 4   Item_Type                  8523 non-null   object \n",
      " 5   Item_MRP                   8523 non-null   float64\n",
      " 6   Outlet_Identifier          8523 non-null   object \n",
      " 7   Outlet_Establishment_Year  8523 non-null   int64  \n",
      " 8   Outlet_Size                8523 non-null   object \n",
      " 9   Outlet_Location_Type       8523 non-null   object \n",
      " 10  Outlet_Type                8523 non-null   object \n",
      " 11  Item_Outlet_Sales          8523 non-null   float64\n",
      "dtypes: float64(4), int64(1), object(7)\n",
      "memory usage: 799.2+ KB\n"
     ]
    }
   ],
   "source": [
    "# show the data after changes\n",
    "df.info()"
   ]
  },
  {
   "cell_type": "code",
   "execution_count": 67,
   "id": "d71f4f34",
   "metadata": {},
   "outputs": [
    {
     "data": {
      "text/plain": [
       "0"
      ]
     },
     "execution_count": 67,
     "metadata": {},
     "output_type": "execute_result"
    }
   ],
   "source": [
    "# check if there find duplicate data\n",
    "df.duplicated().sum()"
   ]
  },
  {
   "cell_type": "code",
   "execution_count": 68,
   "id": "70a9c552",
   "metadata": {},
   "outputs": [
    {
     "data": {
      "text/plain": [
       "Item_Identifier              1559\n",
       "Item_Weight                   416\n",
       "Item_Fat_Content                5\n",
       "Item_Visibility              7880\n",
       "Item_Type                      16\n",
       "Item_MRP                     5938\n",
       "Outlet_Identifier              10\n",
       "Outlet_Establishment_Year       9\n",
       "Outlet_Size                     3\n",
       "Outlet_Location_Type            3\n",
       "Outlet_Type                     4\n",
       "Item_Outlet_Sales            3493\n",
       "dtype: int64"
      ]
     },
     "execution_count": 68,
     "metadata": {},
     "output_type": "execute_result"
    }
   ],
   "source": [
    "# check number unique for column\n",
    "df.nunique()"
   ]
  },
  {
   "cell_type": "code",
   "execution_count": 69,
   "id": "0da1f37c",
   "metadata": {},
   "outputs": [
    {
     "data": {
      "text/plain": [
       "array(['Low Fat', 'Regular', 'low fat', 'LF', 'reg'], dtype=object)"
      ]
     },
     "execution_count": 69,
     "metadata": {},
     "output_type": "execute_result"
    }
   ],
   "source": [
    "#check the value in Item_Fat_Content\n",
    "df['Item_Fat_Content'].unique()"
   ]
  },
  {
   "cell_type": "code",
   "execution_count": 70,
   "id": "c89a0d51",
   "metadata": {},
   "outputs": [],
   "source": [
    "# There are 2 categories of this attribute: ['Low Fat', 'Regular'].\n",
    "# so replace the values To same like\n",
    "df['Item_Fat_Content'].replace({'low fat':'Low Fat'},inplace=True)\n",
    "df['Item_Fat_Content'].replace({'LF':'Low Fat'},inplace=True)\n",
    "df['Item_Fat_Content'].replace({'reg':'Regular'},inplace=True)"
   ]
  },
  {
   "cell_type": "code",
   "execution_count": 71,
   "id": "c6f898d1",
   "metadata": {},
   "outputs": [
    {
     "data": {
      "text/plain": [
       "array(['Low Fat', 'Regular'], dtype=object)"
      ]
     },
     "execution_count": 71,
     "metadata": {},
     "output_type": "execute_result"
    }
   ],
   "source": [
    "#check the value in Item_Fat_Content after edit\n",
    "df['Item_Fat_Content'].unique()"
   ]
  },
  {
   "cell_type": "code",
   "execution_count": 80,
   "id": "76d357db",
   "metadata": {},
   "outputs": [
    {
     "data": {
      "image/png": "[encoded data removed]",
      "text/plain": [
       "<Figure size 432x288 with 2 Axes>"
      ]
     },
     "metadata": {
      "needs_background": "light"
     },
     "output_type": "display_data"
    }
   ],
   "source": [
    "annot_kws={'fontsize':7, 'fontstyle':'italic',  'color':\"k\",'alpha':0.9, 'rotation':\"horizontal\",'verticalalignment':'center'}\n",
    "sns.heatmap(df.corr(),vmin=-1, vmax=1, center=0,cmap=sns.diverging_palette(50, 500, n=500),square=True,annot=True,annot_kws=annot_kws,fmt=\".1g\")\n",
    "plt.show()\n"
   ]
  },
  {
   "cell_type": "markdown",
   "id": "5daeac3c",
   "metadata": {},
   "source": [
    "<a id='eda'></a>\n",
    "## Exploratory Data Analysis\n",
    "\n",
    "> **Tip**: Now that you've trimmed and cleaned your data, you're ready to move on to exploration. **Compute statistics** and **create visualizations** with the goal of addressing the research questions that you posed in the Introduction section. You should compute the relevant statistics throughout the analysis when an inference is made about the data. Note that at least two or more kinds of plots should be created as part of the exploration, and you must  compare and show trends in the varied visualizations. \n"
   ]
  },
  {
   "cell_type": "code",
   "execution_count": 72,
   "id": "c4e21446",
   "metadata": {},
   "outputs": [
    {
     "data": {
      "text/html": [
       "<div>\n",
       "<style scoped>\n",
       "    .dataframe tbody tr th:only-of-type {\n",
       "        vertical-align: middle;\n",
       "    }\n",
       "\n",
       "    .dataframe tbody tr th {\n",
       "        vertical-align: top;\n",
       "    }\n",
       "\n",
       "    .dataframe thead th {\n",
       "        text-align: right;\n",
       "    }\n",
       "</style>\n",
       "<table border=\"1\" class=\"dataframe\">\n",
       "  <thead>\n",
       "    <tr style=\"text-align: right;\">\n",
       "      <th></th>\n",
       "      <th>Item_Weight</th>\n",
       "      <th>Item_Visibility</th>\n",
       "      <th>Item_MRP</th>\n",
       "      <th>Outlet_Establishment_Year</th>\n",
       "      <th>Item_Outlet_Sales</th>\n",
       "    </tr>\n",
       "  </thead>\n",
       "  <tbody>\n",
       "    <tr>\n",
       "      <th>count</th>\n",
       "      <td>8523.000000</td>\n",
       "      <td>8523.000000</td>\n",
       "      <td>8523.000000</td>\n",
       "      <td>8523.000000</td>\n",
       "      <td>8523.000000</td>\n",
       "    </tr>\n",
       "    <tr>\n",
       "      <th>mean</th>\n",
       "      <td>12.857645</td>\n",
       "      <td>0.066132</td>\n",
       "      <td>140.992782</td>\n",
       "      <td>1997.831867</td>\n",
       "      <td>2181.288914</td>\n",
       "    </tr>\n",
       "    <tr>\n",
       "      <th>std</th>\n",
       "      <td>4.226124</td>\n",
       "      <td>0.051598</td>\n",
       "      <td>62.275067</td>\n",
       "      <td>8.371760</td>\n",
       "      <td>1706.499616</td>\n",
       "    </tr>\n",
       "    <tr>\n",
       "      <th>min</th>\n",
       "      <td>4.555000</td>\n",
       "      <td>0.000000</td>\n",
       "      <td>31.290000</td>\n",
       "      <td>1985.000000</td>\n",
       "      <td>33.290000</td>\n",
       "    </tr>\n",
       "    <tr>\n",
       "      <th>25%</th>\n",
       "      <td>9.310000</td>\n",
       "      <td>0.026989</td>\n",
       "      <td>93.826500</td>\n",
       "      <td>1987.000000</td>\n",
       "      <td>834.247400</td>\n",
       "    </tr>\n",
       "    <tr>\n",
       "      <th>50%</th>\n",
       "      <td>12.857645</td>\n",
       "      <td>0.053931</td>\n",
       "      <td>143.012800</td>\n",
       "      <td>1999.000000</td>\n",
       "      <td>1794.331000</td>\n",
       "    </tr>\n",
       "    <tr>\n",
       "      <th>75%</th>\n",
       "      <td>16.000000</td>\n",
       "      <td>0.094585</td>\n",
       "      <td>185.643700</td>\n",
       "      <td>2004.000000</td>\n",
       "      <td>3101.296400</td>\n",
       "    </tr>\n",
       "    <tr>\n",
       "      <th>max</th>\n",
       "      <td>21.350000</td>\n",
       "      <td>0.328391</td>\n",
       "      <td>266.888400</td>\n",
       "      <td>2009.000000</td>\n",
       "      <td>13086.964800</td>\n",
       "    </tr>\n",
       "  </tbody>\n",
       "</table>\n",
       "</div>"
      ],
      "text/plain": [
       "       Item_Weight  Item_Visibility     Item_MRP  Outlet_Establishment_Year  \\\n",
       "count  8523.000000      8523.000000  8523.000000                8523.000000   \n",
       "mean     12.857645         0.066132   140.992782                1997.831867   \n",
       "std       4.226124         0.051598    62.275067                   8.371760   \n",
       "min       4.555000         0.000000    31.290000                1985.000000   \n",
       "25%       9.310000         0.026989    93.826500                1987.000000   \n",
       "50%      12.857645         0.053931   143.012800                1999.000000   \n",
       "75%      16.000000         0.094585   185.643700                2004.000000   \n",
       "max      21.350000         0.328391   266.888400                2009.000000   \n",
       "\n",
       "       Item_Outlet_Sales  \n",
       "count        8523.000000  \n",
       "mean         2181.288914  \n",
       "std          1706.499616  \n",
       "min            33.290000  \n",
       "25%           834.247400  \n",
       "50%          1794.331000  \n",
       "75%          3101.296400  \n",
       "max         13086.964800  "
      ]
     },
     "execution_count": 72,
     "metadata": {},
     "output_type": "execute_result"
    }
   ],
   "source": [
    "# describe dataset\n",
    "df.describe()"
   ]
  },
  {
   "cell_type": "markdown",
   "id": "76d53cb3",
   "metadata": {},
   "source": [
    "### Question 1) which products is the most and the least sales?"
   ]
  },
  {
   "cell_type": "code",
   "execution_count": 73,
   "id": "bdae661b",
   "metadata": {},
   "outputs": [],
   "source": [
    "#function to get x_axis and y_axis\n",
    "def x_axis(col1,col2):\n",
    "    return df.groupby(col1)[col2].sum().index.values\n",
    "\n",
    "def y_axis(col1,col2):\n",
    "    return df.groupby(col1)[col2].sum().values    "
   ]
  },
  {
   "cell_type": "code",
   "execution_count": 74,
   "id": "667c94c4",
   "metadata": {},
   "outputs": [
    {
     "data": {
      "image/png": "[encoded data removed]",
      "text/plain": [
       "<Figure size 1080x720 with 1 Axes>"
      ]
     },
     "metadata": {
      "needs_background": "light"
     },
     "output_type": "display_data"
    }
   ],
   "source": [
    "x = x_axis(\"Item_Type\",\"Item_Outlet_Sales\") \n",
    "y = y_axis(\"Item_Type\",\"Item_Outlet_Sales\")\n",
    "plt.figure(figsize=(15,10))\n",
    "plt.xlabel(\"the total sales of product\",fontsize=14)\n",
    "plt.ylabel(\"the food category \",fontsize=14)\n",
    "plt.suptitle(\" the food category are most sales\")\n",
    "plt.barh(x,y)\n",
    "plt.show()"
   ]
  },
  {
   "cell_type": "markdown",
   "id": "66538a40",
   "metadata": {},
   "source": [
    ">Tip: Here is a list of the most profitable foods"
   ]
  },
  {
   "cell_type": "markdown",
   "id": "e64031c3",
   "metadata": {},
   "source": [
    "### Question 2) which tire that is the most revenue?"
   ]
  },
  {
   "cell_type": "code",
   "execution_count": 75,
   "id": "74d88e39",
   "metadata": {},
   "outputs": [
    {
     "data": {
      "image/png": "[encoded data removed]",
      "text/plain": [
       "<Figure size 1080x720 with 1 Axes>"
      ]
     },
     "metadata": {},
     "output_type": "display_data"
    }
   ],
   "source": [
    "x = x_axis(\"Outlet_Location_Type\",\"Item_Outlet_Sales\") \n",
    "y = y_axis(\"Outlet_Location_Type\",\"Item_Outlet_Sales\") \n",
    "plt.figure(figsize=(15,10))\n",
    "plt.suptitle(\" the tire that is the most sales\")\n",
    "plt.pie(y,labels =x,autopct='%1.1f%%')\n",
    "plt.show()"
   ]
  },
  {
   "cell_type": "markdown",
   "id": "e08b40a0",
   "metadata": {},
   "source": [
    ">Tip: Here show the tire the most profitable"
   ]
  },
  {
   "cell_type": "markdown",
   "id": "68178774",
   "metadata": {},
   "source": [
    "### Question 3) what is frequency distributions for  the Maximum Retail Price?"
   ]
  },
  {
   "cell_type": "code",
   "execution_count": 76,
   "id": "38cb0a3f",
   "metadata": {},
   "outputs": [
    {
     "data": {
      "image/png": "[encoded data removed]",
      "text/plain": [
       "<Figure size 1080x720 with 1 Axes>"
      ]
     },
     "metadata": {
      "needs_background": "light"
     },
     "output_type": "display_data"
    }
   ],
   "source": [
    "x = df[\"Item_MRP\"].values\n",
    "plt.figure(figsize=(15,10))\n",
    "plt.xlabel(\"the Maximum Retail Price\",fontsize=14)\n",
    "plt.ylabel(\"the total count of product\",fontsize=14)\n",
    "plt.suptitle(\" the frequency distributions for  the Maximum Retail Price\")\n",
    "plt.hist(x)\n",
    "plt.show()"
   ]
  },
  {
   "cell_type": "markdown",
   "id": "33da916f",
   "metadata": {},
   "source": [
    ">Tip: Here show any Maximum Retail Price product The Big Mart owns "
   ]
  },
  {
   "cell_type": "markdown",
   "id": "3e8ddfd5",
   "metadata": {},
   "source": [
    "### Question 4) what is frequency distributions for  the Maximum Item Visibility?"
   ]
  },
  {
   "cell_type": "code",
   "execution_count": 77,
   "id": "daacb6ac",
   "metadata": {},
   "outputs": [
    {
     "data": {
      "image/png": "[encoded data removed]",
      "text/plain": [
       "<Figure size 1080x720 with 1 Axes>"
      ]
     },
     "metadata": {
      "needs_background": "light"
     },
     "output_type": "display_data"
    }
   ],
   "source": [
    "x = df[\"Item_Visibility\"].values\n",
    "plt.figure(figsize=(15,10))\n",
    "plt.xlabel(\"the  Item Visibility\",fontsize=14)\n",
    "plt.ylabel(\"the total count of area\",fontsize=14)\n",
    "plt.suptitle(\" the frequency distributions for Item Visibility\")\n",
    "plt.hist(x)\n",
    "plt.show()"
   ]
  },
  {
   "cell_type": "markdown",
   "id": "eaa77ccf",
   "metadata": {},
   "source": [
    "> Tip: the shape is right skewed or postive skewed"
   ]
  },
  {
   "cell_type": "markdown",
   "id": "aeedb164",
   "metadata": {},
   "source": [
    "### Question 5) which outlet type that is the most revenue?"
   ]
  },
  {
   "cell_type": "markdown",
   "id": "d88c965b",
   "metadata": {},
   "source": [
    ">Tip: Here show the outlet type the most profitable"
   ]
  },
  {
   "cell_type": "code",
   "execution_count": 78,
   "id": "3b9a5beb",
   "metadata": {},
   "outputs": [
    {
     "data": {
      "image/png": "[encoded data removed]",
      "text/plain": [
       "<Figure size 1080x720 with 1 Axes>"
      ]
     },
     "metadata": {},
     "output_type": "display_data"
    }
   ],
   "source": [
    "x = df.groupby(\"Outlet_Type\")['Item_Outlet_Sales'].sum().index.values\n",
    "y = df.groupby(\"Outlet_Type\")['Item_Outlet_Sales'].sum().values\n",
    "plt.figure(figsize=(15,10))\n",
    "plt.suptitle(\" the outlet type that is the most sales\")\n",
    "plt.pie(y,labels =x,autopct='%1.1f%%')\n",
    "plt.legend()\n",
    "plt.show()"
   ]
  },
  {
   "cell_type": "markdown",
   "id": "a8483155",
   "metadata": {},
   "source": [
    "## question 6) What is the count of product types according to the location of the outlet type?"
   ]
  },
  {
   "cell_type": "code",
   "execution_count": 79,
   "id": "46a97027",
   "metadata": {},
   "outputs": [
    {
     "data": {
      "text/plain": [
       "Outlet_Location_Type  Item_Type            \n",
       "Tier 1                Baking Goods             185\n",
       "                      Breads                    67\n",
       "                      Breakfast                 33\n",
       "                      Canned                   177\n",
       "                      Dairy                    205\n",
       "                      Frozen Foods             250\n",
       "                      Fruits and Vegetables    337\n",
       "                      Hard Drinks               58\n",
       "                      Health and Hygiene       138\n",
       "                      Household                250\n",
       "                      Meat                     123\n",
       "                      Others                    56\n",
       "                      Seafood                   19\n",
       "                      Snack Foods              334\n",
       "                      Soft Drinks              120\n",
       "                      Starchy Foods             36\n",
       "Tier 2                Baking Goods             211\n",
       "                      Breads                    84\n",
       "                      Breakfast                 32\n",
       "                      Canned                   222\n",
       "                      Dairy                    214\n",
       "                      Frozen Foods             279\n",
       "                      Fruits and Vegetables    399\n",
       "                      Hard Drinks               72\n",
       "                      Health and Hygiene       166\n",
       "                      Household                296\n",
       "                      Meat                     125\n",
       "                      Others                    52\n",
       "                      Seafood                   22\n",
       "                      Snack Foods              401\n",
       "                      Soft Drinks              157\n",
       "                      Starchy Foods             53\n",
       "Tier 3                Baking Goods             252\n",
       "                      Breads                   100\n",
       "                      Breakfast                 45\n",
       "                      Canned                   250\n",
       "                      Dairy                    263\n",
       "                      Frozen Foods             327\n",
       "                      Fruits and Vegetables    496\n",
       "                      Hard Drinks               84\n",
       "                      Health and Hygiene       216\n",
       "                      Household                364\n",
       "                      Meat                     177\n",
       "                      Others                    61\n",
       "                      Seafood                   23\n",
       "                      Snack Foods              465\n",
       "                      Soft Drinks              168\n",
       "                      Starchy Foods             59\n",
       "Name: Outlet_Location_Type, dtype: int64"
      ]
     },
     "execution_count": 79,
     "metadata": {},
     "output_type": "execute_result"
    }
   ],
   "source": [
    "df.groupby(by=['Outlet_Location_Type','Item_Type'])['Outlet_Location_Type'].count()"
   ]
  },
  {
   "cell_type": "markdown",
   "id": "f7a3cbb0",
   "metadata": {},
   "source": [
    ">Tip: Here know any tire the most count of type of products"
   ]
  },
  {
   "cell_type": "markdown",
   "id": "ce67ad18",
   "metadata": {},
   "source": [
    "## question 7) which items category have most visiblty?"
   ]
  },
  {
   "cell_type": "code",
   "execution_count": 82,
   "id": "4943febe",
   "metadata": {},
   "outputs": [
    {
     "data": {
      "image/png": "[encoded data removed]",
      "text/plain": [
       "<Figure size 1080x720 with 1 Axes>"
      ]
     },
     "metadata": {
      "needs_background": "light"
     },
     "output_type": "display_data"
    }
   ],
   "source": [
    "x = x_axis(\"Item_Type\",\"Item_Visibility\") \n",
    "y = y_axis(\"Item_Type\",\"Item_Visibility\")\n",
    "plt.figure(figsize=(15,10))\n",
    "plt.xlabel(\"the Visibility of product\",fontsize=14)\n",
    "plt.ylabel(\"the food category \",fontsize=14)\n",
    "plt.suptitle(\" the Visibility of Items\")\n",
    "plt.barh(x,y)\n",
    "plt.show()"
   ]
  },
  {
   "cell_type": "markdown",
   "id": "56a22273",
   "metadata": {},
   "source": [
    "<a id='conclusions'></a>\n",
    "## Conclusions\n",
    "<ul>\n",
    "<li> **Tip**: Fruits, Vegetables, Snack Foods, Household and Frozen Foods\tthe most sales </li>\n",
    "<li> **Tip**: Tier 3 is the location that achieve most revenue   </li>\n",
    "<li> **Tip**: The Maximum Retail Price product is between 93 : 185  </li>\n",
    "<li> **Tip**: the percentage of total display area of all products in a store allocated is small</li>\n",
    "<li> **Tip**: Supermarket Type 1,2 of Outlet Type is the most revenue</li>\n",
    "<li> **Tip**: Fruits, Vegetables and Snack Foods are the most visibility product</li>\n",
    " <ul>    "
   ]
  },
  {
   "cell_type": "code",
   "execution_count": null,
   "id": "d17a4d50",
   "metadata": {},
   "outputs": [],
   "source": []
  }
 ],
 "metadata": {
  "kernelspec": {
   "display_name": "Python 3",
   "language": "python",
   "name": "python3"
  },
  "language_info": {
   "codemirror_mode": {
    "name": "ipython",
    "version": 3
   },
   "file_extension": ".py",
   "mimetype": "text/x-python",
   "name": "python",
   "nbconvert_exporter": "python",
   "pygments_lexer": "ipython3",
   "version": "3.8.8"
  }
 },
 "nbformat": 4,
 "nbformat_minor": 5
}
